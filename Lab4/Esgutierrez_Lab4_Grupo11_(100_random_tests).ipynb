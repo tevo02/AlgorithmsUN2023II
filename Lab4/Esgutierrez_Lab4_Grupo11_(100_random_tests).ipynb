{
  "cells": [
    {
      "cell_type": "code",
      "execution_count": null,
      "metadata": {
        "colab": {
          "base_uri": "https://localhost:8080/"
        },
        "id": "im-VVd1__7VU",
        "outputId": "e2fb700b-0568-4c0a-ca5d-93d0db9bb0c5"
      },
      "outputs": [
        {
          "name": "stdout",
          "output_type": "stream",
          "text": [
            "processor\t: 0\n",
            "vendor_id\t: GenuineIntel\n",
            "cpu family\t: 6\n",
            "model\t\t: 79\n",
            "model name\t: Intel(R) Xeon(R) CPU @ 2.20GHz\n",
            "stepping\t: 0\n",
            "microcode\t: 0xffffffff\n",
            "cpu MHz\t\t: 2199.998\n",
            "cache size\t: 56320 KB\n",
            "physical id\t: 0\n",
            "siblings\t: 2\n",
            "core id\t\t: 0\n",
            "cpu cores\t: 1\n",
            "apicid\t\t: 0\n",
            "initial apicid\t: 0\n",
            "fpu\t\t: yes\n",
            "fpu_exception\t: yes\n",
            "cpuid level\t: 13\n",
            "wp\t\t: yes\n",
            "flags\t\t: fpu vme de pse tsc msr pae mce cx8 apic sep mtrr pge mca cmov pat pse36 clflush mmx fxsr sse sse2 ss ht syscall nx pdpe1gb rdtscp lm constant_tsc rep_good nopl xtopology nonstop_tsc cpuid tsc_known_freq pni pclmulqdq ssse3 fma cx16 pcid sse4_1 sse4_2 x2apic movbe popcnt aes xsave avx f16c rdrand hypervisor lahf_lm abm 3dnowprefetch invpcid_single ssbd ibrs ibpb stibp fsgsbase tsc_adjust bmi1 hle avx2 smep bmi2 erms invpcid rtm rdseed adx smap xsaveopt arat md_clear arch_capabilities\n",
            "bugs\t\t: cpu_meltdown spectre_v1 spectre_v2 spec_store_bypass l1tf mds swapgs taa mmio_stale_data retbleed\n",
            "bogomips\t: 4399.99\n",
            "clflush size\t: 64\n",
            "cache_alignment\t: 64\n",
            "address sizes\t: 46 bits physical, 48 bits virtual\n",
            "power management:\n",
            "\n",
            "processor\t: 1\n",
            "vendor_id\t: GenuineIntel\n",
            "cpu family\t: 6\n",
            "model\t\t: 79\n",
            "model name\t: Intel(R) Xeon(R) CPU @ 2.20GHz\n",
            "stepping\t: 0\n",
            "microcode\t: 0xffffffff\n",
            "cpu MHz\t\t: 2199.998\n",
            "cache size\t: 56320 KB\n",
            "physical id\t: 0\n",
            "siblings\t: 2\n",
            "core id\t\t: 0\n",
            "cpu cores\t: 1\n",
            "apicid\t\t: 1\n",
            "initial apicid\t: 1\n",
            "fpu\t\t: yes\n",
            "fpu_exception\t: yes\n",
            "cpuid level\t: 13\n",
            "wp\t\t: yes\n",
            "flags\t\t: fpu vme de pse tsc msr pae mce cx8 apic sep mtrr pge mca cmov pat pse36 clflush mmx fxsr sse sse2 ss ht syscall nx pdpe1gb rdtscp lm constant_tsc rep_good nopl xtopology nonstop_tsc cpuid tsc_known_freq pni pclmulqdq ssse3 fma cx16 pcid sse4_1 sse4_2 x2apic movbe popcnt aes xsave avx f16c rdrand hypervisor lahf_lm abm 3dnowprefetch invpcid_single ssbd ibrs ibpb stibp fsgsbase tsc_adjust bmi1 hle avx2 smep bmi2 erms invpcid rtm rdseed adx smap xsaveopt arat md_clear arch_capabilities\n",
            "bugs\t\t: cpu_meltdown spectre_v1 spectre_v2 spec_store_bypass l1tf mds swapgs taa mmio_stale_data retbleed\n",
            "bogomips\t: 4399.99\n",
            "clflush size\t: 64\n",
            "cache_alignment\t: 64\n",
            "address sizes\t: 46 bits physical, 48 bits virtual\n",
            "power management:\n",
            "\n"
          ]
        }
      ],
      "source": [
        "!cat /proc/cpuinfo"
      ]
    },
    {
      "cell_type": "markdown",
      "metadata": {
        "id": "N1ok_-56OjB1"
      },
      "source": [
        "# I Solving the Sum of Two Digits Programming Challenge"
      ]
    },
    {
      "cell_type": "markdown",
      "metadata": {
        "id": "MMY7kmDSO0KM"
      },
      "source": [
        "## C++"
      ]
    },
    {
      "cell_type": "code",
      "execution_count": null,
      "metadata": {
        "colab": {
          "base_uri": "https://localhost:8080/"
        },
        "id": "2pGGf9BkPNIk",
        "outputId": "a75fa9f8-4f48-48ba-fcbd-6234ad31e087"
      },
      "outputs": [
        {
          "output_type": "stream",
          "name": "stdout",
          "text": [
            "Writing APlusB.cpp\n"
          ]
        }
      ],
      "source": [
        "%%writefile APlusB.cpp\n",
        "#include <iostream>\n",
        "\n",
        "int sum_of_two_digits(int first_digit, int second_digit) {\n",
        "    return first_digit + second_digit;\n",
        "}\n",
        "\n",
        "int main() {\n",
        "    int a = 0;\n",
        "    int b = 0;\n",
        "    std::cin >> a;\n",
        "    std::cin >> b;\n",
        "    std::cout << sum_of_two_digits(a, b);\n",
        "    return 0;\n",
        "}"
      ]
    },
    {
      "cell_type": "code",
      "execution_count": null,
      "metadata": {
        "id": "0G3ZKOYAPXSU"
      },
      "outputs": [],
      "source": [
        "!g++ APlusB.cpp -o APlusB -std=c++11\n",
        "!./APlusB"
      ]
    },
    {
      "cell_type": "markdown",
      "metadata": {
        "id": "iNkG2HqfTl9c"
      },
      "source": [
        "### Test input output files"
      ]
    },
    {
      "cell_type": "code",
      "execution_count": null,
      "metadata": {
        "colab": {
          "base_uri": "https://localhost:8080/"
        },
        "id": "aTzU2efzMxly",
        "outputId": "d51eef5f-83b2-476f-d864-196cb750b8ff"
      },
      "outputs": [
        {
          "output_type": "stream",
          "name": "stdout",
          "text": [
            "Overwriting input1.txt\n"
          ]
        }
      ],
      "source": [
        "%%writefile input1.txt\n",
        "4 8"
      ]
    },
    {
      "cell_type": "code",
      "execution_count": null,
      "metadata": {
        "colab": {
          "base_uri": "https://localhost:8080/"
        },
        "id": "zBJ0Gc0NQRet",
        "outputId": "693a7e57-949e-46c4-ecba-f9fa385d9b8f"
      },
      "outputs": [
        {
          "output_type": "stream",
          "name": "stdout",
          "text": [
            "Overwriting output1.txt\n"
          ]
        }
      ],
      "source": [
        "%%writefile output1.txt\n",
        "12"
      ]
    },
    {
      "cell_type": "code",
      "execution_count": null,
      "metadata": {
        "colab": {
          "base_uri": "https://localhost:8080/"
        },
        "id": "IjEcIx63PJAN",
        "outputId": "509c33bc-ff6b-41f3-9677-d039c1c62c86"
      },
      "outputs": [
        {
          "output_type": "stream",
          "name": "stdout",
          "text": [
            "Overwriting input2.txt\n"
          ]
        }
      ],
      "source": [
        "%%writefile input2.txt\n",
        "0 9"
      ]
    },
    {
      "cell_type": "code",
      "execution_count": null,
      "metadata": {
        "colab": {
          "base_uri": "https://localhost:8080/"
        },
        "id": "Up9gOrxURTmd",
        "outputId": "1f2e1d04-b880-4b05-afbb-45e4d49c53be"
      },
      "outputs": [
        {
          "output_type": "stream",
          "name": "stdout",
          "text": [
            "Overwriting output2.txt\n"
          ]
        }
      ],
      "source": [
        "%%writefile output2.txt\n",
        "9"
      ]
    },
    {
      "cell_type": "code",
      "execution_count": null,
      "metadata": {
        "colab": {
          "base_uri": "https://localhost:8080/"
        },
        "id": "PST6G-s-Pwgc",
        "outputId": "dedbb7c2-7527-4840-c42a-f2543211c229"
      },
      "outputs": [
        {
          "output_type": "stream",
          "name": "stdout",
          "text": [
            "12"
          ]
        }
      ],
      "source": [
        "!./APlusB < input1.txt"
      ]
    },
    {
      "cell_type": "code",
      "execution_count": null,
      "metadata": {
        "colab": {
          "base_uri": "https://localhost:8080/"
        },
        "id": "cKxZOjSlRfIN",
        "outputId": "288a6a63-19d7-4732-b7b5-a288ab013abd"
      },
      "outputs": [
        {
          "output_type": "stream",
          "name": "stdout",
          "text": [
            "9"
          ]
        }
      ],
      "source": [
        "!./APlusB < input2.txt"
      ]
    },
    {
      "cell_type": "markdown",
      "metadata": {
        "id": "Qw2TQWCCUwqk"
      },
      "source": [
        "### Comparing files with grep\n",
        "\n",
        "https://askubuntu.com/questions/546796/comparing-two-text-files"
      ]
    },
    {
      "cell_type": "code",
      "execution_count": null,
      "metadata": {
        "id": "WVIaAmMKU4QM"
      },
      "outputs": [],
      "source": [
        "!grep -xvFf output1.txt output1.txt"
      ]
    },
    {
      "cell_type": "code",
      "execution_count": null,
      "metadata": {
        "id": "MQU8gPPjQuYO",
        "colab": {
          "base_uri": "https://localhost:8080/"
        },
        "outputId": "7cc76559-9384-4d56-a9f0-15a6bf02d7dc"
      },
      "outputs": [
        {
          "output_type": "stream",
          "name": "stdout",
          "text": [
            "9\n"
          ]
        }
      ],
      "source": [
        "!grep -xvFf output1.txt output2.txt"
      ]
    },
    {
      "cell_type": "code",
      "execution_count": null,
      "metadata": {
        "colab": {
          "base_uri": "https://localhost:8080/"
        },
        "id": "jYL9OuYBTD_l",
        "outputId": "0218f131-9114-4cf4-e496-253c0ac23a55"
      },
      "outputs": [
        {
          "output_type": "stream",
          "name": "stdout",
          "text": [
            "12\n"
          ]
        }
      ],
      "source": [
        "!grep -xvFf output2.txt output1.txt"
      ]
    },
    {
      "cell_type": "code",
      "execution_count": null,
      "metadata": {
        "id": "Jlja0Xm4TX9M"
      },
      "outputs": [],
      "source": [
        "!./APlusB < input1.txt> ctest1.txt\n",
        "!grep -xvFf output1.txt ctest1.txt"
      ]
    },
    {
      "cell_type": "code",
      "execution_count": null,
      "metadata": {
        "id": "g9OIUZA_QLCQ"
      },
      "outputs": [],
      "source": [
        "!./APlusB < input2.txt > ctest2.txt\n",
        "!grep -xvFf output2.txt ctest2.txt"
      ]
    },
    {
      "cell_type": "markdown",
      "metadata": {
        "id": "3BgOaDjUVJk6"
      },
      "source": [
        "## Python"
      ]
    },
    {
      "cell_type": "code",
      "execution_count": null,
      "metadata": {
        "colab": {
          "base_uri": "https://localhost:8080/"
        },
        "id": "DBvl-T0CTN_8",
        "outputId": "09c6e6e1-18c5-4cb2-b936-3ca851f7329b"
      },
      "outputs": [
        {
          "output_type": "stream",
          "name": "stdout",
          "text": [
            "Writing sum.py\n"
          ]
        }
      ],
      "source": [
        "%%writefile sum.py\n",
        "# python3\n",
        "\n",
        "def sum_of_two_digits(first_digit, second_digit):\n",
        "    return first_digit + second_digit\n",
        "\n",
        "if __name__ == '__main__':\n",
        "    a, b = map(int, input().split())\n",
        "    print(sum_of_two_digits(a, b))"
      ]
    },
    {
      "cell_type": "code",
      "execution_count": null,
      "metadata": {
        "id": "QKoKM11_WGyF"
      },
      "outputs": [],
      "source": [
        "!python sum.py"
      ]
    },
    {
      "cell_type": "code",
      "execution_count": null,
      "metadata": {
        "id": "cocFbPRTWrqt"
      },
      "outputs": [],
      "source": [
        "!python sum.py  < input1.txt> ptest1.txt\n",
        "!grep -xvFf output1.txt ptest1.txt"
      ]
    },
    {
      "cell_type": "code",
      "execution_count": null,
      "metadata": {
        "id": "MorKTa-XXASN"
      },
      "outputs": [],
      "source": [
        "!python sum.py  < input2.txt> ptest2.txt\n",
        "!grep -xvFf output2.txt ptest2.txt"
      ]
    },
    {
      "cell_type": "markdown",
      "metadata": {
        "id": "uvP-mOubW_5F"
      },
      "source": [
        "# II Solving The Maximum Pairwise Product Programming Challenge in C++"
      ]
    },
    {
      "cell_type": "markdown",
      "metadata": {
        "id": "C12yoFR6Xonl"
      },
      "source": [
        "## C++"
      ]
    },
    {
      "cell_type": "code",
      "execution_count": null,
      "metadata": {
        "colab": {
          "base_uri": "https://localhost:8080/"
        },
        "id": "3LpfoGv2Ae81",
        "outputId": "7f4b9ffe-7903-4bc6-ea0e-c85eb91ea7c7"
      },
      "outputs": [
        {
          "output_type": "stream",
          "name": "stdout",
          "text": [
            "Writing max_pairwise_product_full.cpp\n"
          ]
        }
      ],
      "source": [
        "%%writefile max_pairwise_product_full.cpp\n",
        "#include <iostream>\n",
        "#include <vector>\n",
        "#include <algorithm>\n",
        "\n",
        "int MaxPairwiseProduct(const std::vector<int>& numbers) {\n",
        "    int max_product = 0;\n",
        "    int aux_product = 0;\n",
        "    int n = numbers.size();\n",
        "\n",
        "    for (int first = 0; first < n; ++first) {\n",
        "        for (int second = 0; second < n; ++second) {\n",
        "          if ( first != second ){\n",
        "                aux_product = numbers[first] * numbers[second];\n",
        "                if (aux_product > max_product)  max_product = aux_product;\n",
        "          }\n",
        "        }\n",
        "    }\n",
        "\n",
        "    return max_product;\n",
        "}\n",
        "\n",
        "int main() {\n",
        "    int n;\n",
        "    std::cin >> n;\n",
        "    std::vector<int> numbers(n);\n",
        "    for (int i = 0; i < n; ++i) {\n",
        "        std::cin >> numbers[i];\n",
        "    }\n",
        "\n",
        "    std::cout << MaxPairwiseProduct(numbers) << \"\\n\";\n",
        "    return 0;\n",
        "}"
      ]
    },
    {
      "cell_type": "code",
      "execution_count": null,
      "metadata": {
        "id": "PCVo1h6nCF9k"
      },
      "outputs": [],
      "source": [
        "!g++ max_pairwise_product_full.cpp -o max_pairwise_product_full\n",
        "!./max_pairwise_product_full"
      ]
    },
    {
      "cell_type": "markdown",
      "metadata": {
        "id": "m75IQQPbEHBS"
      },
      "source": [
        "$$n^2 \\ \\text{first != second  comparisons},  n^2 - n \\ \\ \\text{numbers[first] * numbers[second] products},  O(n^2)$$"
      ]
    },
    {
      "cell_type": "markdown",
      "metadata": {
        "id": "e7KhxHGNS3i0"
      },
      "source": [
        "### Test 1: Small numbers"
      ]
    },
    {
      "cell_type": "code",
      "execution_count": null,
      "metadata": {
        "colab": {
          "base_uri": "https://localhost:8080/"
        },
        "id": "e1mmTzBgShT-",
        "outputId": "603bae8e-146e-4daf-b140-4ac356d83fb0"
      },
      "outputs": [
        {
          "output_type": "stream",
          "name": "stdout",
          "text": [
            "Overwriting input1.txt\n"
          ]
        }
      ],
      "source": [
        "%%writefile input1.txt\n",
        "10\n",
        "1 2 3 4 5 6 7 8 9 10"
      ]
    },
    {
      "cell_type": "code",
      "execution_count": null,
      "metadata": {
        "colab": {
          "base_uri": "https://localhost:8080/"
        },
        "id": "vy_uI0x7TCId",
        "outputId": "3c8e4d84-c088-4220-9e22-04b229ad8de2"
      },
      "outputs": [
        {
          "output_type": "stream",
          "name": "stdout",
          "text": [
            "90\n"
          ]
        }
      ],
      "source": [
        "!./max_pairwise_product < input1.txt"
      ]
    },
    {
      "cell_type": "code",
      "execution_count": null,
      "metadata": {
        "colab": {
          "base_uri": "https://localhost:8080/"
        },
        "id": "xaj6f9bxC6D6",
        "outputId": "17131b70-ba2f-4d0d-c292-c59db1823d3d"
      },
      "outputs": [
        {
          "output_type": "stream",
          "name": "stdout",
          "text": [
            "Overwriting output1.txt\n"
          ]
        }
      ],
      "source": [
        "%%writefile output1.txt\n",
        "90"
      ]
    },
    {
      "cell_type": "code",
      "execution_count": null,
      "metadata": {
        "id": "fYCjAdA_C-wy"
      },
      "outputs": [],
      "source": [
        "!./max_pairwise_product_full< input1.txt > ctest1.txt\n",
        "!grep -xvFf output1.txt ctest1.txt"
      ]
    },
    {
      "cell_type": "code",
      "execution_count": null,
      "metadata": {
        "colab": {
          "base_uri": "https://localhost:8080/"
        },
        "id": "ZPe40LY14_6f",
        "outputId": "c1e437e8-b6ef-4518-f34a-c52556175d59"
      },
      "outputs": [
        {
          "output_type": "stream",
          "name": "stdout",
          "text": [
            "Overwriting input2.txt\n"
          ]
        }
      ],
      "source": [
        "%%writefile input2.txt\n",
        "10\n",
        "10 9 8 7 6 5 4 3 2 1"
      ]
    },
    {
      "cell_type": "code",
      "execution_count": null,
      "metadata": {
        "colab": {
          "base_uri": "https://localhost:8080/"
        },
        "id": "xiHmF7HA5Faa",
        "outputId": "9d53027a-8bce-4606-9ea3-075a491103d4"
      },
      "outputs": [
        {
          "output_type": "stream",
          "name": "stdout",
          "text": [
            "Overwriting output2.txt\n"
          ]
        }
      ],
      "source": [
        "%%writefile output2.txt\n",
        "90"
      ]
    },
    {
      "cell_type": "code",
      "execution_count": null,
      "metadata": {
        "id": "jjwc9kwb5t_k"
      },
      "outputs": [],
      "source": [
        "!./max_pairwise_product_full< input2.txt > ctest2.txt\n",
        "!grep -xvFf output2.txt ctest2.txt"
      ]
    },
    {
      "cell_type": "markdown",
      "metadata": {
        "id": "IeZ3kTjpYmR9"
      },
      "source": [
        "### Test 2: largest input numbers 200000 200000 in the input"
      ]
    },
    {
      "cell_type": "code",
      "execution_count": null,
      "metadata": {
        "colab": {
          "base_uri": "https://localhost:8080/"
        },
        "id": "LQNlZqaqYt7U",
        "outputId": "66ea7860-a5b0-4f0d-d79c-04db3a001ad0"
      },
      "outputs": [
        {
          "output_type": "stream",
          "name": "stdout",
          "text": [
            "Overwriting input3.txt\n"
          ]
        }
      ],
      "source": [
        "%%writefile input3.txt\n",
        "6\n",
        "1 3 200000 9 200000 23"
      ]
    },
    {
      "cell_type": "code",
      "execution_count": null,
      "metadata": {
        "colab": {
          "base_uri": "https://localhost:8080/"
        },
        "id": "GjQq7QOUCw-9",
        "outputId": "1e607409-c9da-441c-a84b-19be21f3066c"
      },
      "outputs": [
        {
          "output_type": "execute_result",
          "data": {
            "text/plain": [
              "40000000000"
            ]
          },
          "metadata": {},
          "execution_count": 414
        }
      ],
      "source": [
        "200000*200000"
      ]
    },
    {
      "cell_type": "code",
      "execution_count": null,
      "metadata": {
        "colab": {
          "base_uri": "https://localhost:8080/"
        },
        "id": "EuS6n3jtDK5C",
        "outputId": "c1308d47-95c0-4d26-d4af-1c698b0dafdd"
      },
      "outputs": [
        {
          "output_type": "stream",
          "name": "stdout",
          "text": [
            "Overwriting output3.txt\n"
          ]
        }
      ],
      "source": [
        "%%writefile output3.txt\n",
        "40000000000"
      ]
    },
    {
      "cell_type": "code",
      "execution_count": null,
      "metadata": {
        "colab": {
          "base_uri": "https://localhost:8080/"
        },
        "id": "2Wad2VZUZDxR",
        "outputId": "619b667a-d451-4396-cddd-75c4f6a82950"
      },
      "outputs": [
        {
          "output_type": "stream",
          "name": "stdout",
          "text": [
            "1345294336\n"
          ]
        }
      ],
      "source": [
        "!./max_pairwise_product_full < input3.txt"
      ]
    },
    {
      "cell_type": "code",
      "execution_count": null,
      "metadata": {
        "colab": {
          "base_uri": "https://localhost:8080/"
        },
        "id": "pEvp1ieyDJGq",
        "outputId": "eca8fe3a-7758-4b16-bdeb-afe82b9f57d9"
      },
      "outputs": [
        {
          "output_type": "stream",
          "name": "stdout",
          "text": [
            "1345294336\n"
          ]
        }
      ],
      "source": [
        "!./max_pairwise_product_full < input3.txt > ctest3.txt\n",
        "!grep -xvFf output3.txt ctest3.txt"
      ]
    },
    {
      "cell_type": "code",
      "execution_count": null,
      "metadata": {
        "colab": {
          "base_uri": "https://localhost:8080/"
        },
        "id": "SrtJrKqM-God",
        "outputId": "48a8f4b1-3101-4622-db99-9d7ddd56d82f"
      },
      "outputs": [
        {
          "output_type": "stream",
          "name": "stdout",
          "text": [
            "Overwriting run_all_test.sh\n"
          ]
        }
      ],
      "source": [
        " %%writefile run_all_test.sh\n",
        "#!/bin/bash\n",
        "g++ max_pairwise_product_full.cpp -o max_pairwise_product_full\n",
        "for i in {1..3}\n",
        "do\n",
        "    ./max_pairwise_product_full < input$i.txt > ctest$i.txt\n",
        "    grep -xvFf output$i.txt ctest$i.txt\n",
        "done"
      ]
    },
    {
      "cell_type": "code",
      "execution_count": null,
      "metadata": {
        "colab": {
          "base_uri": "https://localhost:8080/"
        },
        "id": "wGWMHtzS-QnA",
        "outputId": "9c82fa77-8b1e-48c3-a101-cf66aa5c6a5a"
      },
      "outputs": [
        {
          "output_type": "stream",
          "name": "stdout",
          "text": [
            "1345294336\n"
          ]
        }
      ],
      "source": [
        "!chmod u+x run_all_test.sh\n",
        "!./run_all_test.sh"
      ]
    },
    {
      "cell_type": "markdown",
      "metadata": {
        "id": "H2SC0Qt5HCzz"
      },
      "source": [
        "Changing the variables to long long"
      ]
    },
    {
      "cell_type": "code",
      "execution_count": null,
      "metadata": {
        "colab": {
          "base_uri": "https://localhost:8080/"
        },
        "id": "MPcmsxiQZSfE",
        "outputId": "8f748f82-3939-453d-ef92-0669a0406cf7"
      },
      "outputs": [
        {
          "output_type": "stream",
          "name": "stdout",
          "text": [
            "Overwriting max_pairwise_product_long_full.cpp\n"
          ]
        }
      ],
      "source": [
        "%%writefile max_pairwise_product_long_full.cpp\n",
        "#include <iostream>\n",
        "#include <vector>\n",
        "#include <algorithm>\n",
        "\n",
        "long long MaxPairwiseProduct(const std::vector<int>& numbers) {\n",
        "    long long max_product = 0LL;\n",
        "\t  long long aux_product = 0LL;\n",
        "    int n = numbers.size();\n",
        "\n",
        "    for (int first = 0; first < n; ++first) {\n",
        "        for (int second = 0; second < n; ++second) {\n",
        "          if ( first != second){\n",
        "                aux_product = (long long) numbers[first] * numbers[second];\n",
        "                if (aux_product > max_product)  max_product = aux_product;\n",
        "          }\n",
        "        }\n",
        "    }\n",
        "\n",
        "\n",
        "    return max_product;\n",
        "}\n",
        "\n",
        "int main() {\n",
        "    int n;\n",
        "    std::cin >> n;\n",
        "    std::vector<int> numbers(n);\n",
        "    for (int i = 0; i < n; ++i) {\n",
        "        std::cin >> numbers[i];\n",
        "    }\n",
        "\n",
        "    std::cout << MaxPairwiseProduct(numbers) << \"\\n\";\n",
        "    return 0;\n",
        "}\n"
      ]
    },
    {
      "cell_type": "code",
      "execution_count": null,
      "metadata": {
        "id": "W3xQpFXL6wjO"
      },
      "outputs": [],
      "source": [
        "!g++ max_pairwise_product_long_full.cpp -o max_pairwise_product_long_full"
      ]
    },
    {
      "cell_type": "code",
      "execution_count": null,
      "metadata": {
        "colab": {
          "base_uri": "https://localhost:8080/"
        },
        "id": "H5dvN9M3R9sV",
        "outputId": "feae3910-9b1a-4b32-84dd-3fa04a070db1"
      },
      "outputs": [
        {
          "output_type": "stream",
          "name": "stdout",
          "text": [
            "40000000000\n"
          ]
        }
      ],
      "source": [
        "!./max_pairwise_product_long_full < input3.txt"
      ]
    },
    {
      "cell_type": "markdown",
      "metadata": {
        "id": "gx-sEYdfQ8f8"
      },
      "source": [
        "### Running multiple tests with a bash shell"
      ]
    },
    {
      "cell_type": "code",
      "execution_count": null,
      "metadata": {
        "colab": {
          "base_uri": "https://localhost:8080/"
        },
        "id": "O9qsq2nn7elw",
        "outputId": "bd26d19a-505f-4def-dc68-956c86dc44db"
      },
      "outputs": [
        {
          "output_type": "stream",
          "name": "stdout",
          "text": [
            "Overwriting run_all_test.sh\n"
          ]
        }
      ],
      "source": [
        " %%writefile run_all_test.sh\n",
        "#!/bin/bash\n",
        "g++ max_pairwise_product_long_full.cpp -o max_pairwise_product_long_full\n",
        "for i in {1..3}\n",
        "do\n",
        "    ./max_pairwise_product_long_full < input$i.txt > ctest$i.txt\n",
        "    grep -xvFf output$i.txt ctest$i.txt\n",
        "done"
      ]
    },
    {
      "cell_type": "code",
      "execution_count": null,
      "metadata": {
        "id": "0g5kKVph7xIA"
      },
      "outputs": [],
      "source": [
        "!chmod u+x run_all_test.sh\n",
        "!./run_all_test.sh"
      ]
    },
    {
      "cell_type": "markdown",
      "metadata": {
        "id": "XPVHkHxH6_7s"
      },
      "source": [
        "### Test 3  stress tests 6 testing cases files input4.txt/output4.txt .. input10.txt/output10.txt\n",
        "\n",
        "---\n",
        "\n"
      ]
    },
    {
      "cell_type": "code",
      "execution_count": null,
      "metadata": {
        "colab": {
          "base_uri": "https://localhost:8080/"
        },
        "id": "MzU4gnCzMTY0",
        "outputId": "4ac814dd-d2a1-46d0-81d8-29274cdee749"
      },
      "outputs": [
        {
          "output_type": "stream",
          "name": "stdout",
          "text": [
            "Overwriting input4.txt\n"
          ]
        }
      ],
      "source": [
        "%%writefile input4.txt\n",
        "7\n",
        "1 9 4 2 5 66 4"
      ]
    },
    {
      "cell_type": "code",
      "execution_count": null,
      "metadata": {
        "colab": {
          "base_uri": "https://localhost:8080/"
        },
        "id": "n3KBxacfOddt",
        "outputId": "576cfca1-dca8-42a5-d873-7acc8b227b63"
      },
      "outputs": [
        {
          "output_type": "stream",
          "name": "stdout",
          "text": [
            "Overwriting output4.txt\n"
          ]
        }
      ],
      "source": [
        "%%writefile output4.txt\n",
        "594"
      ]
    },
    {
      "cell_type": "code",
      "execution_count": null,
      "metadata": {
        "colab": {
          "base_uri": "https://localhost:8080/"
        },
        "id": "4LLezUgWMXqL",
        "outputId": "94e9e9a8-763d-4a78-d227-fa5acae527f7"
      },
      "outputs": [
        {
          "output_type": "stream",
          "name": "stdout",
          "text": [
            "Overwriting input5.txt\n"
          ]
        }
      ],
      "source": [
        "%%writefile input5.txt\n",
        "3\n",
        "1 1 1"
      ]
    },
    {
      "cell_type": "code",
      "execution_count": null,
      "metadata": {
        "colab": {
          "base_uri": "https://localhost:8080/"
        },
        "id": "Zr0VolUHOuCP",
        "outputId": "ae085c4a-cf6f-449a-e247-5bc31555ceac"
      },
      "outputs": [
        {
          "output_type": "stream",
          "name": "stdout",
          "text": [
            "Overwriting output5.txt\n"
          ]
        }
      ],
      "source": [
        "%%writefile output5.txt\n",
        "1"
      ]
    },
    {
      "cell_type": "code",
      "execution_count": null,
      "metadata": {
        "colab": {
          "base_uri": "https://localhost:8080/"
        },
        "id": "U0A09SAWMYCL",
        "outputId": "092ecfe2-7f6b-4b3c-b36c-a593b8d14d35"
      },
      "outputs": [
        {
          "output_type": "stream",
          "name": "stdout",
          "text": [
            "Overwriting input6.txt\n"
          ]
        }
      ],
      "source": [
        "%%writefile input6.txt\n",
        "9\n",
        "3 3 3 3 3 3 3 3 3"
      ]
    },
    {
      "cell_type": "code",
      "execution_count": null,
      "metadata": {
        "colab": {
          "base_uri": "https://localhost:8080/"
        },
        "id": "o5labwWVO3Vk",
        "outputId": "f90c1d62-ee21-4cb1-98d2-4e0f92e3216b"
      },
      "outputs": [
        {
          "output_type": "stream",
          "name": "stdout",
          "text": [
            "Overwriting output6.txt\n"
          ]
        }
      ],
      "source": [
        "%%writefile output6.txt\n",
        "9"
      ]
    },
    {
      "cell_type": "code",
      "execution_count": null,
      "metadata": {
        "colab": {
          "base_uri": "https://localhost:8080/"
        },
        "id": "aeKwmMAjMYTz",
        "outputId": "183fe542-147b-449c-c6a8-0366c21c2265"
      },
      "outputs": [
        {
          "output_type": "stream",
          "name": "stdout",
          "text": [
            "Overwriting input7.txt\n"
          ]
        }
      ],
      "source": [
        "%%writefile input7.txt\n",
        "4\n",
        "6 4 7 3"
      ]
    },
    {
      "cell_type": "code",
      "execution_count": null,
      "metadata": {
        "colab": {
          "base_uri": "https://localhost:8080/"
        },
        "id": "_TcFAmXHPnu2",
        "outputId": "49009bcc-c1a8-4eaa-bed1-de7945661698"
      },
      "outputs": [
        {
          "output_type": "stream",
          "name": "stdout",
          "text": [
            "Overwriting output7.txt\n"
          ]
        }
      ],
      "source": [
        "%%writefile output7.txt\n",
        "42"
      ]
    },
    {
      "cell_type": "code",
      "execution_count": null,
      "metadata": {
        "colab": {
          "base_uri": "https://localhost:8080/"
        },
        "id": "80kluSzBMYu8",
        "outputId": "aeb7adb7-10b6-4b24-f16e-069dd10d0248"
      },
      "outputs": [
        {
          "output_type": "stream",
          "name": "stdout",
          "text": [
            "Overwriting input8.txt\n"
          ]
        }
      ],
      "source": [
        "%%writefile input8.txt\n",
        "2\n",
        "1 1"
      ]
    },
    {
      "cell_type": "code",
      "execution_count": null,
      "metadata": {
        "colab": {
          "base_uri": "https://localhost:8080/"
        },
        "id": "akkTIDQ6Ptiu",
        "outputId": "cc2a3d91-3ef3-4513-fd07-d6f7feee098a"
      },
      "outputs": [
        {
          "output_type": "stream",
          "name": "stdout",
          "text": [
            "Overwriting output8.txt\n"
          ]
        }
      ],
      "source": [
        "%%writefile output8.txt\n",
        "1"
      ]
    },
    {
      "cell_type": "code",
      "execution_count": null,
      "metadata": {
        "colab": {
          "base_uri": "https://localhost:8080/"
        },
        "id": "WZXfzLC2MZEL",
        "outputId": "5bfb4f5e-19f1-42c9-83de-78a214247133"
      },
      "outputs": [
        {
          "output_type": "stream",
          "name": "stdout",
          "text": [
            "Overwriting input9.txt\n"
          ]
        }
      ],
      "source": [
        "%%writefile input9.txt\n",
        "4\n",
        "200000 200000 200000 200000"
      ]
    },
    {
      "cell_type": "code",
      "execution_count": null,
      "metadata": {
        "colab": {
          "base_uri": "https://localhost:8080/"
        },
        "id": "lUOwXTCsO9qL",
        "outputId": "fedb8431-6068-4012-f6d7-e17cd7a25345"
      },
      "outputs": [
        {
          "output_type": "stream",
          "name": "stdout",
          "text": [
            "Overwriting output9.txt\n"
          ]
        }
      ],
      "source": [
        "%%writefile output9.txt\n",
        "40000000000"
      ]
    },
    {
      "cell_type": "code",
      "execution_count": null,
      "metadata": {
        "colab": {
          "base_uri": "https://localhost:8080/"
        },
        "id": "tSQiWod9MbKL",
        "outputId": "0f88f6c2-ecb7-4816-e2a9-50c084aa70d2"
      },
      "outputs": [
        {
          "output_type": "stream",
          "name": "stdout",
          "text": [
            "Overwriting input10.txt\n"
          ]
        }
      ],
      "source": [
        "%%writefile input10.txt\n",
        "2\n",
        "9 9"
      ]
    },
    {
      "cell_type": "code",
      "execution_count": null,
      "metadata": {
        "colab": {
          "base_uri": "https://localhost:8080/"
        },
        "id": "6X1o9qpPPFwH",
        "outputId": "bd39e5ca-bb52-4ac3-bb15-7166ff9b2470"
      },
      "outputs": [
        {
          "output_type": "stream",
          "name": "stdout",
          "text": [
            "Overwriting output10.txt\n"
          ]
        }
      ],
      "source": [
        "%%writefile output10.txt\n",
        "81"
      ]
    },
    {
      "cell_type": "code",
      "execution_count": null,
      "metadata": {
        "colab": {
          "base_uri": "https://localhost:8080/"
        },
        "id": "IQbK00zkQGS3",
        "outputId": "d2d11a26-e4c4-4b5f-87b4-d1a670caf749"
      },
      "outputs": [
        {
          "output_type": "stream",
          "name": "stdout",
          "text": [
            "Overwriting max_pairwise_product_long_full.cpp\n"
          ]
        }
      ],
      "source": [
        "%%writefile max_pairwise_product_long_full.cpp\n",
        "#include <iostream>\n",
        "#include <vector>\n",
        "#include <algorithm>\n",
        "\n",
        "long long MaxPairwiseProduct(const std::vector<int>& numbers) {\n",
        "    long long max_product = 0LL;\n",
        "\t  long long aux_product = 0LL;\n",
        "    int n = numbers.size();\n",
        "\n",
        "    for (int first = 0; first < n; ++first) {\n",
        "        for (int second = 0; second < n; ++second) {\n",
        "          if ( first != second){\n",
        "                aux_product = (long long) numbers[first] * numbers[second];\n",
        "                if (aux_product > max_product)  max_product = aux_product;\n",
        "          }\n",
        "        }\n",
        "    }\n",
        "\n",
        "\n",
        "    return max_product;\n",
        "}\n",
        "\n",
        "int main() {\n",
        "    int n;\n",
        "    std::cin >> n;\n",
        "    std::vector<int> numbers(n);\n",
        "    for (int i = 0; i < n; ++i) {\n",
        "        std::cin >> numbers[i];\n",
        "    }\n",
        "\n",
        "    std::cout << MaxPairwiseProduct(numbers) << \"\\n\";\n",
        "    return 0;\n",
        "}\n"
      ]
    },
    {
      "cell_type": "code",
      "execution_count": null,
      "metadata": {
        "id": "HvCVGDKdQG_u"
      },
      "outputs": [],
      "source": [
        "!g++ max_pairwise_product_long_full.cpp -o max_pairwise_product_long_full #Compilar y generar object con las instrucciones"
      ]
    },
    {
      "cell_type": "code",
      "execution_count": null,
      "metadata": {
        "colab": {
          "base_uri": "https://localhost:8080/"
        },
        "id": "PwqpBmYr69fu",
        "outputId": "b5b63998-9e4b-4b10-c022-96bd8af384f9"
      },
      "outputs": [
        {
          "output_type": "stream",
          "name": "stdout",
          "text": [
            "Overwriting run_all_test.sh\n"
          ]
        }
      ],
      "source": [
        " %%writefile run_all_test.sh\n",
        "#!/bin/bash\n",
        "g++ max_pairwise_product_long_full.cpp -o max_pairwise_product_long_full\n",
        "for i in {4..10}\n",
        "do\n",
        "    ./max_pairwise_product_long_full < input$i.txt > ctest$i.txt\n",
        "    grep -xvFf output$i.txt ctest$i.txt\n",
        "done"
      ]
    },
    {
      "cell_type": "code",
      "execution_count": null,
      "metadata": {
        "id": "jBCkMeR6Fw4y"
      },
      "outputs": [],
      "source": [
        "!chmod u+x run_all_test.sh\n",
        "!./run_all_test.sh"
      ]
    },
    {
      "cell_type": "markdown",
      "metadata": {
        "id": "9z9yr5QkeyJF"
      },
      "source": [
        "### Test 4  time test  measure the execution time running with the the largest worst cases input11.txt  (200000 increasing numbers) and inoput12.txt (199998 increasing numbers and  200000, 200000 at the end)"
      ]
    },
    {
      "cell_type": "code",
      "execution_count": null,
      "metadata": {
        "colab": {
          "base_uri": "https://localhost:8080/"
        },
        "id": "UmB1ipWM_nSk",
        "outputId": "044a1204-511d-49e5-c9c7-2cee22cbd282"
      },
      "outputs": [
        {
          "output_type": "stream",
          "name": "stdout",
          "text": [
            "Overwriting WriteTest.cpp\n"
          ]
        }
      ],
      "source": [
        "# input11.txt 200000 increasing numbers:  1 2 .. 200000\n",
        "\n",
        "%%writefile WriteTest.cpp\n",
        "\n",
        "#include <iostream>\n",
        "#include <fstream>\n",
        "#include <cstdlib>\n",
        "\n",
        "using namespace std;\n",
        "\n",
        "int main() {\n",
        "  // Create and open a text file\n",
        "  ofstream MyFile(\"input11.txt\");\n",
        "\n",
        " MyFile << 200000 <<\"\\n\";  // n\n",
        " for (int i=1; i <200001; i++){\n",
        "     MyFile << i <<\" \";\n",
        " }\n",
        "\n",
        "  // Close the file\n",
        "  MyFile.close();\n",
        "}"
      ]
    },
    {
      "cell_type": "code",
      "execution_count": null,
      "metadata": {
        "id": "EH25TkOkZfD9"
      },
      "outputs": [],
      "source": [
        "!g++ WriteTest.cpp -o WriteTest\n",
        "!./WriteTest"
      ]
    },
    {
      "cell_type": "code",
      "execution_count": null,
      "metadata": {
        "colab": {
          "base_uri": "https://localhost:8080/"
        },
        "id": "j0mokSOnCCtZ",
        "outputId": "5c8a05c6-39f3-4f3d-d24a-b12000fc1397"
      },
      "outputs": [
        {
          "output_type": "execute_result",
          "data": {
            "text/plain": [
              "39999800000"
            ]
          },
          "metadata": {},
          "execution_count": 445
        }
      ],
      "source": [
        "199999 * 200000"
      ]
    },
    {
      "cell_type": "code",
      "execution_count": null,
      "metadata": {
        "colab": {
          "base_uri": "https://localhost:8080/"
        },
        "id": "VoDhDV73B5Mo",
        "outputId": "e8326642-0cee-44b7-ae64-cb00befbd41a"
      },
      "outputs": [
        {
          "output_type": "stream",
          "name": "stdout",
          "text": [
            "Overwriting output11.txt\n"
          ]
        }
      ],
      "source": [
        "%%writefile output11.txt\n",
        "39999800000"
      ]
    },
    {
      "cell_type": "code",
      "execution_count": null,
      "metadata": {
        "colab": {
          "base_uri": "https://localhost:8080/"
        },
        "id": "oLiMjbAIfPlX",
        "outputId": "4e422a4c-0f0a-42fa-8b7e-a2a635557978"
      },
      "outputs": [
        {
          "output_type": "stream",
          "name": "stdout",
          "text": [
            "Overwriting WriteTest.cpp\n"
          ]
        }
      ],
      "source": [
        "# input12.txt 200000 decreasing numbers and 200000, 199999 ...  2 1\n",
        "\n",
        "%%writefile WriteTest.cpp\n",
        "\n",
        "#include <iostream>\n",
        "#include <fstream>\n",
        "#include <cstdlib>\n",
        "\n",
        "using namespace std;\n",
        "\n",
        "int main() {\n",
        "  // Create and open a text file\n",
        "  ofstream MyFile(\"input12.txt\");\n",
        "\n",
        " MyFile << 200000 <<\"\\n\";  // n\n",
        " for (int i=1; i <200001; i++){\n",
        "     MyFile << 200001-i <<\" \";\n",
        " }\n",
        "\n",
        "  // Close the file\n",
        "  MyFile.close();\n",
        "}"
      ]
    },
    {
      "cell_type": "code",
      "execution_count": null,
      "metadata": {
        "id": "oULNBr_zAd9c"
      },
      "outputs": [],
      "source": [
        "!g++ WriteTest.cpp -o WriteTest\n",
        "!./WriteTest"
      ]
    },
    {
      "cell_type": "code",
      "execution_count": null,
      "metadata": {
        "id": "PQLyocaFB-y4",
        "colab": {
          "base_uri": "https://localhost:8080/"
        },
        "outputId": "2c8eea57-c700-4559-8f98-9299ac23b789"
      },
      "outputs": [
        {
          "output_type": "stream",
          "name": "stdout",
          "text": [
            "Overwriting output12.txt\n"
          ]
        }
      ],
      "source": [
        "%%writefile output12.txt\n",
        "39999800000"
      ]
    },
    {
      "cell_type": "markdown",
      "metadata": {
        "id": "JB6f03qO-lj9"
      },
      "source": [
        "Measure time\n",
        "\n",
        "https://askubuntu.com/questions/53444/how-can-i-measure-the-execution-time-of-a-terminal-process"
      ]
    },
    {
      "cell_type": "code",
      "execution_count": null,
      "metadata": {
        "colab": {
          "base_uri": "https://localhost:8080/"
        },
        "id": "6p2QLEr576zk",
        "outputId": "8bfc5ecd-9242-4ec0-b38a-ef23834e7ed0"
      },
      "outputs": [
        {
          "output_type": "stream",
          "name": "stdout",
          "text": [
            "39999800000\n",
            "\n",
            "real\t4m52.097s\n",
            "user\t4m50.051s\n",
            "sys\t0m0.096s\n"
          ]
        }
      ],
      "source": [
        "!g++ max_pairwise_product_long_full.cpp -o max_pairwise_product_long_full\n",
        "!time ./max_pairwise_product_long_full< input11.txt"
      ]
    },
    {
      "cell_type": "code",
      "execution_count": null,
      "metadata": {
        "colab": {
          "background_save": true
        },
        "id": "cnjCyeUdAnZj",
        "outputId": "bd4eb5e2-84d5-49b4-a0cc-320636d8c968"
      },
      "outputs": [
        {
          "name": "stdout",
          "output_type": "stream",
          "text": [
            "39999800000\n",
            "\n",
            "real\t4m55.285s\n",
            "user\t4m53.155s\n",
            "sys\t0m0.054s\n"
          ]
        }
      ],
      "source": [
        "!g++ max_pairwise_product_long_full.cpp -o max_pairwise_product_long_full\n",
        "!time ./max_pairwise_product_long_full< input12.txt"
      ]
    },
    {
      "cell_type": "markdown",
      "metadata": {
        "id": "FXClpBsUJuXC"
      },
      "source": [
        "##### Calculate the number or and upper bound to the number of instructions executed by the algorithm as a function of n, add in each line a comment with the number of instructions that are executed in that line."
      ]
    },
    {
      "cell_type": "code",
      "execution_count": null,
      "metadata": {
        "colab": {
          "base_uri": "https://localhost:8080/"
        },
        "id": "uG6Mv-Pwlkii",
        "outputId": "9a6e5f65-3fe8-42cd-9884-10518885b176"
      },
      "outputs": [
        {
          "output_type": "stream",
          "name": "stdout",
          "text": [
            "Overwriting max_pairwise_product_long_full.cpp\n"
          ]
        }
      ],
      "source": [
        "%%writefile max_pairwise_product_long_full.cpp\n",
        "#include <iostream>\n",
        "#include <vector>\n",
        "#include <algorithm>\n",
        "\n",
        "long long MaxPairwiseProduct(const std::vector<int>& numbers) {              //N inst exec by line executed\n",
        "    long long max_product = 0LL;                                             //1\n",
        "\t  long long aux_product = 0LL;                                             //1\n",
        "    int n = numbers.size();                                                  //1\n",
        "\n",
        "    for (int first = 0; first < n; ++first) {                                //1+2n\n",
        "        for (int second = 0; second < n; ++second) {                         //n + 2n**2\n",
        "          if ( first != second ){                                            //n**2\n",
        "                aux_product = numbers[first] * numbers[second];              //n**2 -n\n",
        "                if (aux_product > max_product)                               //n**2 -n\n",
        "                    max_product = aux_product;                               //[1, n**2/2 - n/2] upper bound\n",
        "          }\n",
        "        }\n",
        "    }\n",
        "\n",
        "                                                                             // --------------\n",
        "    return max_product;                                                      // 4 + n + [5*n**2+1, 11*n**2/2  - n/2]  upper bound\n",
        "}\n",
        "\n",
        "int main() {                                              //N inst exec by line executed\n",
        "    int n;                                                //1\n",
        "    std::cin >> n;                                        //1\n",
        "    std::vector<int> numbers(n);                          //n\n",
        "    for (int i = 0; i < n; ++i) {                         //1 + 2n\n",
        "        std::cin >> numbers[i];                           //n\n",
        "    }\n",
        "\n",
        "    std::cout << MaxPairwiseProduct(numbers) << \"\\n\";     //1 + 1  + 4 + n + [5*n**2+1, 11*n**2/2  - n/2]\n",
        "\n",
        "    return 0;                                             // --------------\n",
        "}                                                         //  9 + 5*n + [5*n**2+1, 11*n**2/2  - n/2]  upper bound\n"
      ]
    },
    {
      "cell_type": "markdown",
      "metadata": {
        "id": "0vTsUg8OwcHs"
      },
      "source": [
        "Count executed intructions in code"
      ]
    },
    {
      "cell_type": "code",
      "execution_count": null,
      "metadata": {
        "colab": {
          "base_uri": "https://localhost:8080/"
        },
        "id": "CuRKkqQc137V",
        "outputId": "94e761b9-f1dd-4c69-8aea-c630495016b8"
      },
      "outputs": [
        {
          "output_type": "stream",
          "name": "stdout",
          "text": [
            "Overwriting max_pairwise_product_long_full_execints.cpp\n"
          ]
        }
      ],
      "source": [
        "%%writefile max_pairwise_product_long_full_execints.cpp\n",
        "#include <iostream>\n",
        "#include <vector>\n",
        "#include <algorithm>\n",
        "\n",
        "long long MaxPairwiseProduct(const std::vector<int>& numbers, long long &execints) {              //N inst exec by line executed\n",
        "\n",
        "    long long max_product = 0LL;                                             //1\n",
        "    execints++;\n",
        "\n",
        "\t  long long aux_product = 0LL;                                             //1\n",
        "    execints++;\n",
        "\n",
        "    int n = numbers.size();                                                  //1\n",
        "    execints++;\n",
        "\n",
        "    execints++;\n",
        "    for (int first = 0; first < n; ++first) {                                //1+2n\n",
        "        execints += 2;\n",
        "\n",
        "        execints++;\n",
        "        for (int second = 0; second < n; ++second) {                         //n + 2n**2\n",
        "          execints += 2;\n",
        "\n",
        "          execints++;\n",
        "          if ( first != second ){                                            //n**2\n",
        "                aux_product = numbers[first] * numbers[second];              //n**2 -n\n",
        "                execints++;\n",
        "\n",
        "                execints++;\n",
        "                if (aux_product > max_product){                               //n**2 -n\n",
        "                    max_product = aux_product;                               //[1,n**2/2 - n/2]  upper bound\n",
        "                    execints++;\n",
        "\n",
        "                }\n",
        "        }\n",
        "      }\n",
        "    }\n",
        "                                                                            // --------------\n",
        "    return max_product;                                                     // 4 + n + [5*n**2+1, 11*n**2/2  - n/2] upper bound\n",
        "}\n",
        "\n",
        "int main() {                                                 //N inst exec by line executed\n",
        "\n",
        "    long long execints =0LL;\n",
        "\n",
        "    int n;                                                   //1\n",
        "    execints++;\n",
        "\n",
        "    std::cin >> n;                                           //1\n",
        "    execints++;\n",
        "\n",
        "    std::vector<int> numbers(n);                             //n\n",
        "    execints += n;\n",
        "\n",
        "    execints++;\n",
        "    for (int i = 0; i < n; ++i) {                            //1 + 2n\n",
        "        execints += 2;\n",
        "\n",
        "        std::cin >> numbers[i];\n",
        "        execints++;                                          //n\n",
        "\n",
        "    }\n",
        "\n",
        "\n",
        "\n",
        "    //std::cout << MaxPairwiseProduct(numbers) << \"\\n\";      //1 + 1  + 4 + n + [5*n**2+1, 11*n**2/2  - n/2] upper bound\n",
        "\n",
        "\n",
        "    execints++;\n",
        "    int M = MaxPairwiseProduct(numbers,execints);\n",
        "\n",
        "    execints++;\n",
        "    std::cout <<  execints << \"\\n\";\n",
        "    return 0;                                                // --------------\n",
        "}                                                            // 9 + 5*n + [5*n**2+1, 11*n**2/2  - n/2]"
      ]
    },
    {
      "cell_type": "markdown",
      "metadata": {
        "id": "cUjHtvtdDsmr"
      },
      "source": [
        "The number of instructions executed by the algorithm with a list of size $n$ is  \n",
        "\n",
        "$$T (n) = 9 + 5n + \\left[5n^2+1, 11\\frac{n^2}{2}  - \\frac{n}{2}\\right] \\ \\  \\text{upper bound}$$\n",
        "\n",
        "It depends on the size of the lists and  the order of the list.\n",
        "\n",
        "For the input1.txt\n",
        "```\n",
        "10\n",
        "1 2 3 4 5 6 7 8 9 10\n",
        "```\n",
        "$$T = 9 + 5(10) + 5(10)(10) +  9 + 5 + 4 + 3 + 2 + 2 + 2 + 2 + 1 + 0  = 589 $$\n",
        "\n",
        "$$T(10) \\in [560, 604]  $$\n"
      ]
    },
    {
      "cell_type": "code",
      "execution_count": null,
      "metadata": {
        "colab": {
          "background_save": true
        },
        "id": "K59xQMWiBNFj"
      },
      "outputs": [],
      "source": [
        "#The number of times that  max_product = aux_product; in the worst case is less than (n**2 -n)/2 -  upper bound\n",
        "\n",
        "   1  2  3  4  5  6  7  8  9  10\n",
        "1  x  2  3  4  5  6  7  8  9  10         9\n",
        "2  2  x  6  8  10 12 14 16 18 20         5 14\n",
        "3  3  6  x  12 15 18 21 24 27 30         4 18\n",
        "4  4  8  12 x  20 24 28 32 36 40         3 21\n",
        "5  5  10 15 20 x  30 35 40 45 50         2 23\n",
        "6  6  12 18 24 30 x  42 48 54 60         2 25\n",
        "7  7  14 21 28 35 42 x  56 63 70         2 27\n",
        "8  8  18 27 36 45 54 63 72 x  90         1 30\n",
        "10 10 20 30 40 50 60 70 60 90 x          0"
      ]
    },
    {
      "cell_type": "code",
      "execution_count": null,
      "metadata": {
        "colab": {
          "base_uri": "https://localhost:8080/"
        },
        "id": "E3O8dzFfEgir",
        "outputId": "c17fe7e2-cc37-4a65-fe81-17a100509a75"
      },
      "outputs": [
        {
          "output_type": "execute_result",
          "data": {
            "text/plain": [
              "589"
            ]
          },
          "metadata": {},
          "execution_count": 209
        }
      ],
      "source": [
        "9 + 5*(10) + 5*(10)*(10) +  9 + 5 + 4 + 3 + 2 + 2 + 2 + 2 + 1 + 0"
      ]
    },
    {
      "cell_type": "code",
      "execution_count": null,
      "metadata": {
        "colab": {
          "base_uri": "https://localhost:8080/"
        },
        "id": "TCpdl5u_Gq1a",
        "outputId": "3e4e8ccd-054f-46f8-a4bc-09de9ee7fa3e"
      },
      "outputs": [
        {
          "output_type": "stream",
          "name": "stdout",
          "text": [
            "560 604.0\n"
          ]
        }
      ],
      "source": [
        "n = 10\n",
        "print( 9 + 5*n + 5*n**2+1,  9 + 5*n + 11*n**2/2  - n/2)"
      ]
    },
    {
      "cell_type": "code",
      "execution_count": null,
      "metadata": {
        "colab": {
          "base_uri": "https://localhost:8080/"
        },
        "id": "Kuvm1C05ly2a",
        "outputId": "24b6aa8c-a48d-4e56-e0b7-5c423ebd125f"
      },
      "outputs": [
        {
          "output_type": "stream",
          "name": "stdout",
          "text": [
            "589\n"
          ]
        }
      ],
      "source": [
        "!g++ max_pairwise_product_long_full_execints.cpp -o max_pairwise_product_long_full_execints\n",
        "!./max_pairwise_product_long_full_execints < input1.txt"
      ]
    },
    {
      "cell_type": "markdown",
      "metadata": {
        "id": "Yr_Lb7CaHfxB"
      },
      "source": [
        "\n",
        "For the input2.txt\n",
        "```\n",
        "10\n",
        "10 9 8 7 6 5 4 3 2 1\n",
        "```\n",
        "$$T = 9 + 5*(10) + 5*(10)**2 +  1  = 560 $$"
      ]
    },
    {
      "cell_type": "code",
      "execution_count": null,
      "metadata": {
        "colab": {
          "base_uri": "https://localhost:8080/"
        },
        "id": "HOdqlwJiZUIp",
        "outputId": "119e3054-b147-4849-d0c2-4af00f518e64"
      },
      "outputs": [
        {
          "output_type": "execute_result",
          "data": {
            "text/plain": [
              "560"
            ]
          },
          "metadata": {},
          "execution_count": 213
        }
      ],
      "source": [
        "9 + 5*(10) + 5*(10)**2 +  1"
      ]
    },
    {
      "cell_type": "code",
      "execution_count": null,
      "metadata": {
        "colab": {
          "base_uri": "https://localhost:8080/"
        },
        "id": "_znzLectjFSe",
        "outputId": "2616080b-e064-401f-86a0-34a2ba36e84b"
      },
      "outputs": [
        {
          "output_type": "stream",
          "name": "stdout",
          "text": [
            "292\n"
          ]
        }
      ],
      "source": [
        "!g++ max_pairwise_product_long_full_execints.cpp -o max_pairwise_product_long_full_execints\n",
        "!./max_pairwise_product_long_full_execints < input4.txt\n",
        "n= 10"
      ]
    },
    {
      "cell_type": "markdown",
      "metadata": {
        "id": "L_uaamxeAHK7"
      },
      "source": [
        "\n",
        "For the input12.txt\n",
        "```\n",
        "200000\n",
        "200000  199999 ... 2 1\n",
        "```\n",
        "$$T = 9 + 5*(200000) + 5*(200000)**2 +1  = 200001000010 $$\n",
        "\n"
      ]
    },
    {
      "cell_type": "code",
      "execution_count": null,
      "metadata": {
        "colab": {
          "base_uri": "https://localhost:8080/"
        },
        "id": "c7X-ewmeXe-h",
        "outputId": "6ae48531-9192-45b7-c44e-2c088ebe2cbb"
      },
      "outputs": [
        {
          "output_type": "execute_result",
          "data": {
            "text/plain": [
              "200001000010"
            ]
          },
          "metadata": {},
          "execution_count": 217
        }
      ],
      "source": [
        "9 + 5*(200000) + 5*(200000)**2 +1"
      ]
    },
    {
      "cell_type": "markdown",
      "metadata": {
        "id": "NXW7QkoBL6xH"
      },
      "source": [
        "Calculate estimated time by instruction and number of instructions by second"
      ]
    },
    {
      "cell_type": "code",
      "execution_count": null,
      "metadata": {
        "id": "BMH8mF3EKn2w"
      },
      "outputs": [],
      "source": [
        "!g++ max_pairwise_product_long_full_execints.cpp -o max_pairwise_product_long_full_execints\n",
        "!./max_pairwise_product_long_full_execints < input12.txt\n"
      ]
    },
    {
      "cell_type": "code",
      "execution_count": null,
      "metadata": {
        "colab": {
          "background_save": true
        },
        "id": "pKqB3i7dIxnc"
      },
      "outputs": [],
      "source": [
        "# Estimated time by instruction\n",
        "\n",
        "306/200001000010\n"
      ]
    },
    {
      "cell_type": "code",
      "execution_count": null,
      "metadata": {
        "colab": {
          "background_save": true
        },
        "id": "18N1ouqeMhE1"
      },
      "outputs": [],
      "source": [
        "# Estimated number of instructions by second\n",
        "\n",
        "306/200001000010"
      ]
    },
    {
      "cell_type": "markdown",
      "metadata": {
        "id": "KyuxejFkL5X_"
      },
      "source": [
        "# Estimate the maximun n that can be solved in 1 second\n",
        "\n",
        "$$5n^2 \\times 1.53*10^{-9} s = 1s$$\n",
        "\n",
        "$$ n \\approx 11000$$\n"
      ]
    },
    {
      "cell_type": "code",
      "execution_count": null,
      "metadata": {
        "colab": {
          "base_uri": "https://localhost:8080/"
        },
        "id": "WXu5jp-DLTOI",
        "outputId": "6878ea4e-8ed0-4708-f154-f65185311ebe"
      },
      "outputs": [
        {
          "output_type": "stream",
          "name": "stdout",
          "text": [
            "Overwriting WriteTest.cpp\n"
          ]
        }
      ],
      "source": [
        "# Verify input13.txt\n",
        "%%writefile WriteTest.cpp\n",
        "\n",
        "#include <iostream>\n",
        "#include <fstream>\n",
        "#include <cstdlib>\n",
        "\n",
        "using namespace std;\n",
        "\n",
        "int main() {\n",
        "  // Create and open a text file\n",
        "  ofstream MyFile(\"input13.txt\");\n",
        "\n",
        " MyFile << 11000 <<\"\\n\";  // n\n",
        " for (int i=1; i <11001; i++){\n",
        "     MyFile << i <<\" \";\n",
        " }\n",
        "\n",
        "  // Close the file\n",
        "  MyFile.close();\n",
        "}"
      ]
    },
    {
      "cell_type": "code",
      "execution_count": null,
      "metadata": {
        "id": "AQ8N52pUMCeT"
      },
      "outputs": [],
      "source": [
        "!g++ WriteTest.cpp -o WriteTest\n",
        "!./WriteTest"
      ]
    },
    {
      "cell_type": "code",
      "execution_count": null,
      "metadata": {
        "colab": {
          "base_uri": "https://localhost:8080/"
        },
        "id": "ussuAokfM2du",
        "outputId": "77c6ebd3-b6a9-441f-bd96-10bb6a5015c5"
      },
      "outputs": [
        {
          "output_type": "stream",
          "name": "stdout",
          "text": [
            "120989000\n",
            "\n",
            "real\t0m0.839s\n",
            "user\t0m0.823s\n",
            "sys\t0m0.002s\n"
          ]
        }
      ],
      "source": [
        "!g++ max_pairwise_product_long_full.cpp -o max_pairwise_product_long_full\n",
        "!time ./max_pairwise_product_long_full< input13.txt"
      ]
    },
    {
      "cell_type": "markdown",
      "metadata": {
        "id": "Tm_AVmt-QQH4"
      },
      "source": [
        "## Python"
      ]
    },
    {
      "cell_type": "code",
      "execution_count": null,
      "metadata": {
        "colab": {
          "base_uri": "https://localhost:8080/"
        },
        "id": "gRCCcd7IQTKZ",
        "outputId": "fa92ab08-13df-459d-87b3-5d14366ae4b3"
      },
      "outputs": [
        {
          "output_type": "stream",
          "name": "stdout",
          "text": [
            "Writing max_pairwise_product_long_full.py\n"
          ]
        }
      ],
      "source": [
        "%%writefile max_pairwise_product_long_full.py\n",
        "def MaxPairwiseProduct(numbers):\n",
        "  max_product = 0\n",
        "  aux_product = 0\n",
        "  n = len(numbers)\n",
        "\n",
        "  for first in range (n):\n",
        "    for second in range(n):\n",
        "      if(first != second):\n",
        "        aux_product = numbers[first]*numbers[second]\n",
        "        if aux_product > max_product:\n",
        "          max_product = aux_product\n",
        "  return max_product\n",
        "\n",
        "n = int(input())\n",
        "numbers = [int(i) for i in input().split()]\n",
        "print(MaxPairwiseProduct(numbers))\n"
      ]
    },
    {
      "cell_type": "code",
      "execution_count": null,
      "metadata": {
        "colab": {
          "base_uri": "https://localhost:8080/"
        },
        "id": "hjw7TJrDL0d-",
        "outputId": "f2889e29-5376-4826-ff26-944db7e7561f"
      },
      "outputs": [
        {
          "output_type": "stream",
          "name": "stdout",
          "text": [
            "120989000\n",
            "\n",
            "real\t0m19.833s\n",
            "user\t0m19.648s\n",
            "sys\t0m0.017s\n"
          ]
        }
      ],
      "source": [
        "# Verify\n",
        "!time python3 max_pairwise_product_long_full.py < input13.txt"
      ]
    },
    {
      "cell_type": "markdown",
      "metadata": {
        "id": "MKQKSC-vKePK"
      },
      "source": [
        "## Perform the same analysis for an algorithm in C++ and Python that uses\n",
        "$$\\frac{n^2 - n}{2} = O(n^2)\\ \\ \\text{products}$$"
      ]
    },
    {
      "cell_type": "code",
      "execution_count": null,
      "metadata": {
        "colab": {
          "base_uri": "https://localhost:8080/"
        },
        "id": "jkkHHoxSK65p",
        "outputId": "322664e4-8f7c-46ad-eb57-2efbe60ec110"
      },
      "outputs": [
        {
          "output_type": "stream",
          "name": "stdout",
          "text": [
            "Writing max_pairwise_product.cpp\n"
          ]
        }
      ],
      "source": [
        "%%writefile max_pairwise_product.cpp\n",
        "#include <iostream>\n",
        "#include <vector>\n",
        "#include <algorithm>\n",
        "\n",
        "int MaxPairwiseProduct(const std::vector<int>& numbers) {\n",
        "    int max_product = 0;\n",
        "    int n = numbers.size();\n",
        "\n",
        "    for (int first = 0; first < n; ++first) {\n",
        "        for (int second = first + 1; second < n; ++second) {\n",
        "            max_product = std::max(max_product,\n",
        "                numbers[first] * numbers[second]);\n",
        "        }\n",
        "    }\n",
        "\n",
        "    return max_product;\n",
        "}\n",
        "\n",
        "int main() {\n",
        "    int n;\n",
        "    std::cin >> n;\n",
        "    std::vector<int> numbers(n);\n",
        "    for (int i = 0; i < n; ++i) {\n",
        "        std::cin >> numbers[i];\n",
        "    }\n",
        "\n",
        "    std::cout << MaxPairwiseProduct(numbers) << \"\\n\";\n",
        "    return 0;\n",
        "}"
      ]
    },
    {
      "cell_type": "code",
      "execution_count": null,
      "metadata": {
        "colab": {
          "base_uri": "https://localhost:8080/"
        },
        "id": "sU8-Ote7K8vz",
        "outputId": "b0417f15-e969-4eb3-9e09-a687feeef799"
      },
      "outputs": [
        {
          "output_type": "stream",
          "name": "stdout",
          "text": [
            "Writing max_pairwise_product_long.cpp\n"
          ]
        }
      ],
      "source": [
        "%%writefile max_pairwise_product_long.cpp\n",
        "#include <iostream>\n",
        "#include <vector>\n",
        "#include <algorithm>\n",
        "\n",
        "long long MaxPairwiseProduct(const std::vector<int>& numbers) {              //N inst exec by line executed\n",
        "    long long max_product = 0LL;                                             //1\n",
        "\t  long long aux_product = 0LL;                                             //1\n",
        "    int n = numbers.size();                                                  //1\n",
        "\n",
        "    for (int first = 0; first < n; ++first) {                                //1+2n\n",
        "        for (int second = first + 1; second < n; ++second) {                 //n + (n-1)n\n",
        "\t\t\t       aux_product =  (long long) numbers[first] * numbers[second];    //(n-1)n/2\n",
        "            if (max_product < aux_product)  {                                //(n-1)n/2\n",
        "\t\t\t\t        max_product = aux_product;                                   //[0, (n-1)n/2]\n",
        "             }\n",
        "        }\n",
        "    }\n",
        "                                                                             // --------------\n",
        "    return max_product;                                                      // 4 + 3n + [2(n-1)n, 2.5 (n-1)n] upper bound\n",
        "}\n",
        "\n",
        "int main() {                                              //N inst exec by line executed\n",
        "    int n;                                                //1\n",
        "    std::cin >> n;                                        //1\n",
        "    std::vector<int> numbers(n);                          //n\n",
        "    for (int i = 0; i < n; ++i) {                         //1 + 2n\n",
        "        std::cin >> numbers[i];                           //n\n",
        "    }\n",
        "\n",
        "    std::cout << MaxPairwiseProduct(numbers) << \"\\n\";     //1 + 1  + 4 + 3n + [2(n-1)n, 2.5 (n-1)n]\n",
        "    return 0;                                             // --------------\n",
        "}                                                         // 9 + 7n + [2(n-1)n, 2.5 (n-1)n] upper bound\n"
      ]
    },
    {
      "cell_type": "code",
      "execution_count": null,
      "metadata": {
        "colab": {
          "base_uri": "https://localhost:8080/"
        },
        "id": "5QWT3fneK8nw",
        "outputId": "a9f30390-a32a-41bb-f655-22b201b55452"
      },
      "outputs": [
        {
          "output_type": "stream",
          "name": "stdout",
          "text": [
            "120989000\n",
            "\n",
            "real\t0m0.394s\n",
            "user\t0m0.390s\n",
            "sys\t0m0.002s\n"
          ]
        }
      ],
      "source": [
        "!g++ max_pairwise_product_long.cpp -o max_pairwise_product_long\n",
        "!time ./max_pairwise_product_long < input13.txt"
      ]
    },
    {
      "cell_type": "code",
      "execution_count": null,
      "metadata": {
        "colab": {
          "base_uri": "https://localhost:8080/"
        },
        "id": "mxIVvm1RK8dB",
        "outputId": "771205b4-8a0b-40f8-fe92-1c361a4f9eff"
      },
      "outputs": [
        {
          "output_type": "stream",
          "name": "stdout",
          "text": [
            "120989000\n",
            "\n",
            "real\t0m0.525s\n",
            "user\t0m0.519s\n",
            "sys\t0m0.003s\n"
          ]
        }
      ],
      "source": [
        "!g++ max_pairwise_product.cpp -o max_pairwise_product\n",
        "!time ./max_pairwise_product < input13.txt"
      ]
    },
    {
      "cell_type": "markdown",
      "metadata": {
        "id": "1Hsbd-uHOb_j"
      },
      "source": [
        "### Sort solution in C++ and Python\n",
        "\n",
        "$$ O(n \\lg n)$$\n",
        "\n",
        "**Which sorting algorithm is used in GCC?**\n",
        "https://stackoverflow.com/questions/7221257/which-sorting-algorithm-is-used-in-gcc\n",
        "\n",
        "* ...  the algorithm is called introsort, a combination between Insertionsort, Quicksort & Heapsort. ...\n",
        "\n",
        "**Introsort**\n",
        "https://en.wikipedia.org/wiki/Introsort\n",
        "\n",
        "Introsort or introspective sort is a hybrid sorting algorithm that provides both fast average performance and (asymptotically) optimal worst-case performance. It begins with quicksort, it switches to heapsort when the recursion depth exceeds a level based on (the logarithm of) the number of elements being sorted and it switches to insertion sort when the number of elements is below some threshold\n",
        "\n",
        "*   Class\tSorting algorithm\n",
        "*   Data structure\tArray\n",
        "*   Worst-case performance\t$O(n \\lg n)$\n",
        "*   Average performance\t$O(n \\lg n)$\n",
        "\n",
        "**Tinsort**\n",
        "https://en.wikipedia.org/wiki/Timsort\n",
        "\n",
        "Timsort is a hybrid, stable sorting algorithm, derived from merge sort and insertion sort, designed to perform well on many kinds of real-world data. It was implemented by Tim Peters in 2002 for use in the Python programming language.\n",
        "\n",
        "*   Class\tSorting algorithm\n",
        "*   Data structure\tArray\n",
        "*   Worst-case performance\t$O(n \\lg n)$\n",
        "*   Best-case performance $O(n)$\n",
        "*   Average performance\t$O(n \\lg n)$\n",
        "*   Worst-case space complexity $O(n)$"
      ]
    },
    {
      "cell_type": "markdown",
      "metadata": {
        "id": "WMUthAXjOb_k"
      },
      "source": [
        "Add in each line a coment with the number of intstrcution that are executed in that line"
      ]
    },
    {
      "cell_type": "code",
      "execution_count": null,
      "metadata": {
        "colab": {
          "base_uri": "https://localhost:8080/"
        },
        "id": "2-sXOmqFOb_k",
        "outputId": "0cb4ec04-ede1-4f55-c574-bc65e737462d"
      },
      "outputs": [
        {
          "output_type": "stream",
          "name": "stdout",
          "text": [
            "Overwriting max_pairwise_product_with_sort.py\n"
          ]
        }
      ],
      "source": [
        "%%writefile max_pairwise_product_with_sort.py\n",
        "#Python3\n",
        "if __name__ == \"__main__\":\n",
        "    n = int(input())\n",
        "    lista = list(map(int, input().split()))\n",
        "    lista.sort()\n",
        "    print(lista[n - 1] * lista[n - 2])"
      ]
    },
    {
      "cell_type": "code",
      "source": [
        "%%writefile max_pairwise_product_with_sort_C.cpp\n",
        "#include <iostream>\n",
        "#include <vector>\n",
        "#include <algorithm>\n",
        "\n",
        "int main() {\n",
        "    int n;                                                //1\n",
        "    std::cin >> n;                                        //1\n",
        "    std::vector<int> numbers(n);                          //n\n",
        "    for (int i = 0; i < n; ++i) {                         //1 + 2n\n",
        "        std::cin >> numbers[i];                           //n\n",
        "    }\n",
        "\n",
        "    std::sort(numbers.begin(), numbers.end());                          //nlogn\n",
        "    std::cout << (long long) numbers[n - 1] * numbers[n - 2] << '\\n';   //2\n",
        "\n",
        "    return 0;\n",
        "\n",
        "\n",
        "}"
      ],
      "metadata": {
        "colab": {
          "base_uri": "https://localhost:8080/"
        },
        "id": "CPcBAA7HEpIA",
        "outputId": "407d5bd3-28fa-41b7-b26f-25f4e800ee70"
      },
      "execution_count": null,
      "outputs": [
        {
          "output_type": "stream",
          "name": "stdout",
          "text": [
            "Overwriting max_pairwise_product_with_sort_C.cpp\n"
          ]
        }
      ]
    },
    {
      "cell_type": "code",
      "source": [
        "!g++ max_pairwise_product_with_sort_C.cpp -o max_pairwise_product_with_sort_C\n"
      ],
      "metadata": {
        "id": "QDuaUAEQKknD"
      },
      "execution_count": null,
      "outputs": []
    },
    {
      "cell_type": "markdown",
      "metadata": {
        "id": "v8pdV9ABOb_k"
      },
      "source": [
        "Test with inputs 1 and 2\n",
        "\n"
      ]
    },
    {
      "cell_type": "code",
      "source": [
        "!./max_pairwise_product_with_sort_C < input1.txt\n",
        "!./max_pairwise_product_with_sort_C < input2.txt"
      ],
      "metadata": {
        "colab": {
          "base_uri": "https://localhost:8080/"
        },
        "id": "tQWQdLARW9cZ",
        "outputId": "38373460-39a7-4446-bdc1-4e1b01fc8960"
      },
      "execution_count": null,
      "outputs": [
        {
          "output_type": "stream",
          "name": "stdout",
          "text": [
            "90\n",
            "90\n"
          ]
        }
      ]
    },
    {
      "cell_type": "code",
      "execution_count": null,
      "metadata": {
        "colab": {
          "base_uri": "https://localhost:8080/"
        },
        "id": "kdXAyLG4Ob_k",
        "outputId": "f437a7f4-cbe3-4ae8-cb45-190d461a3ed7"
      },
      "outputs": [
        {
          "name": "stdout",
          "output_type": "stream",
          "text": [
            "90\n",
            "90\n"
          ]
        }
      ],
      "source": [
        "!python max_pairwise_product_with_sort.py < input1.txt\n",
        "!python max_pairwise_product_with_sort.py < input2.txt"
      ]
    },
    {
      "cell_type": "markdown",
      "metadata": {
        "id": "Sw-5X1q1Ob_k"
      },
      "source": [
        "Test and time it with input 3"
      ]
    },
    {
      "cell_type": "code",
      "source": [
        "!time ./max_pairwise_product_with_sort_C < input3.txt"
      ],
      "metadata": {
        "colab": {
          "base_uri": "https://localhost:8080/"
        },
        "id": "kisS39dCaDGp",
        "outputId": "a9f81a88-e569-429b-ba11-5aed046de885"
      },
      "execution_count": null,
      "outputs": [
        {
          "output_type": "stream",
          "name": "stdout",
          "text": [
            "40000000000\n",
            "\n",
            "real\t0m0.008s\n",
            "user\t0m0.001s\n",
            "sys\t0m0.002s\n"
          ]
        }
      ]
    },
    {
      "cell_type": "code",
      "execution_count": null,
      "metadata": {
        "colab": {
          "base_uri": "https://localhost:8080/"
        },
        "id": "ryHJ30WIOb_k",
        "outputId": "37267aa4-6856-47c4-8942-d31aa3d2de54"
      },
      "outputs": [
        {
          "name": "stdout",
          "output_type": "stream",
          "text": [
            "40000000000\n",
            "CPU times: user 5.91 ms, sys: 80 µs, total: 5.99 ms\n",
            "Wall time: 106 ms\n"
          ]
        }
      ],
      "source": [
        "%%time\n",
        "!python max_pairwise_product_with_sort.py < input3.txt"
      ]
    },
    {
      "cell_type": "markdown",
      "metadata": {
        "id": "oJGdPl1HOb_k"
      },
      "source": [
        "100 stress tests"
      ]
    },
    {
      "cell_type": "code",
      "execution_count": null,
      "metadata": {
        "colab": {
          "base_uri": "https://localhost:8080/"
        },
        "id": "pXHtO1dEOb_k",
        "outputId": "9e365ec0-fa0f-42a6-f4f6-07a36092a20d"
      },
      "outputs": [
        {
          "output_type": "stream",
          "name": "stdout",
          "text": [
            "Writing stress_tests.py\n"
          ]
        }
      ],
      "source": [
        "%%writefile stress_tests.py\n",
        "#Python3\n",
        "import random\n",
        "\n",
        "if __name__ == \"__main__\":\n",
        "    for i in range(100):\n",
        "        n = random.randint(2, 99)\n",
        "        lista = [random.randint(17, 25631) for i in range(n)]\n",
        "        lista.sort()\n",
        "        print(f\"n: {n} Product: {lista[n - 1] * lista[n - 2]}\")\n",
        "\n"
      ]
    },
    {
      "cell_type": "code",
      "source": [
        "%%writefile stress_tests_C.cpp\n",
        "#include <iostream>\n",
        "#include <vector>\n",
        "#include <algorithm>\n",
        "#include <random>\n",
        "\n",
        "int main() {\n",
        "    std::random_device rd;\n",
        "    std::mt19937 gen(rd());\n",
        "    std::uniform_int_distribution<int> n_dist(2, 99);\n",
        "    std::uniform_int_distribution<int> num_dist(0, 25000);\n",
        "\n",
        "    for (int i = 0; i < 100; ++i ){\n",
        "          int n = n_dist(gen);                              //1\n",
        "          std::vector<int> numbers(n);                          //n\n",
        "          for (int i = 0; i < n; ++i) {                         //1 + 2n\n",
        "              numbers[i]= num_dist(gen);                           //n\n",
        "          }\n",
        "\n",
        "          std::sort(numbers.begin(), numbers.end());                          //nlogn\n",
        "          std::cout << \"n= \"<< n << \" Product= \" << (long long) numbers[n - 1] * numbers[n - 2] << '\\n';   //2\n",
        "    }\n",
        "    return 0;\n",
        "}"
      ],
      "metadata": {
        "colab": {
          "base_uri": "https://localhost:8080/"
        },
        "id": "294uDKdvvjcq",
        "outputId": "7b6134bb-2566-4c5e-a0e7-7315e7387534"
      },
      "execution_count": null,
      "outputs": [
        {
          "output_type": "stream",
          "name": "stdout",
          "text": [
            "Writing stress_tests_C.cpp\n"
          ]
        }
      ]
    },
    {
      "cell_type": "code",
      "source": [
        "!g++ stress_tests_C.cpp -o stress_tests_C\n",
        "!./stress_tests_C"
      ],
      "metadata": {
        "colab": {
          "base_uri": "https://localhost:8080/"
        },
        "id": "QGRU_TzcyIiz",
        "outputId": "e33001f0-878d-4fea-9fbb-b2ac383b6de1"
      },
      "execution_count": null,
      "outputs": [
        {
          "output_type": "stream",
          "name": "stdout",
          "text": [
            "n= 49 Product= 576100305\n",
            "n= 59 Product= 586816164\n",
            "n= 25 Product= 486588844\n",
            "n= 88 Product= 623326012\n",
            "n= 52 Product= 575204700\n",
            "n= 56 Product= 578158262\n",
            "n= 84 Product= 585538163\n",
            "n= 42 Product= 602970940\n",
            "n= 59 Product= 606468965\n",
            "n= 63 Product= 602186358\n",
            "n= 35 Product= 579298395\n",
            "n= 88 Product= 581070018\n",
            "n= 95 Product= 604315558\n",
            "n= 31 Product= 602997636\n",
            "n= 29 Product= 521092776\n",
            "n= 70 Product= 602601388\n",
            "n= 6 Product= 333918130\n",
            "n= 51 Product= 599274840\n",
            "n= 84 Product= 616454406\n",
            "n= 67 Product= 623275434\n",
            "n= 22 Product= 554317600\n",
            "n= 16 Product= 571713120\n",
            "n= 85 Product= 606590508\n",
            "n= 98 Product= 607871628\n",
            "n= 60 Product= 596260014\n",
            "n= 95 Product= 604658884\n",
            "n= 77 Product= 608957560\n",
            "n= 74 Product= 610238184\n",
            "n= 11 Product= 600886000\n",
            "n= 26 Product= 571136160\n",
            "n= 62 Product= 607720233\n",
            "n= 31 Product= 559468548\n",
            "n= 30 Product= 563492115\n",
            "n= 19 Product= 415178012\n",
            "n= 66 Product= 613114852\n",
            "n= 3 Product= 75433416\n",
            "n= 11 Product= 477003035\n",
            "n= 95 Product= 622425202\n",
            "n= 58 Product= 567981876\n",
            "n= 78 Product= 586026108\n",
            "n= 9 Product= 273460317\n",
            "n= 97 Product= 595477848\n",
            "n= 37 Product= 497141880\n",
            "n= 83 Product= 609201260\n",
            "n= 97 Product= 614165664\n",
            "n= 97 Product= 601627006\n",
            "n= 79 Product= 616600999\n",
            "n= 79 Product= 585001116\n",
            "n= 46 Product= 613155803\n",
            "n= 13 Product= 599501357\n",
            "n= 84 Product= 618864904\n",
            "n= 24 Product= 597736650\n",
            "n= 53 Product= 612600120\n",
            "n= 85 Product= 605750495\n",
            "n= 43 Product= 614826612\n",
            "n= 62 Product= 610954344\n",
            "n= 63 Product= 597183860\n",
            "n= 20 Product= 545071549\n",
            "n= 14 Product= 407971200\n",
            "n= 40 Product= 610583739\n",
            "n= 91 Product= 619060065\n",
            "n= 32 Product= 602927576\n",
            "n= 92 Product= 618193422\n",
            "n= 98 Product= 570963414\n",
            "n= 21 Product= 521340992\n",
            "n= 25 Product= 591843897\n",
            "n= 2 Product= 539185232\n",
            "n= 30 Product= 585917107\n",
            "n= 54 Product= 565220349\n",
            "n= 61 Product= 599972220\n",
            "n= 57 Product= 563416524\n",
            "n= 92 Product= 601628952\n",
            "n= 63 Product= 564679752\n",
            "n= 56 Product= 599708417\n",
            "n= 96 Product= 612151533\n",
            "n= 58 Product= 612231862\n",
            "n= 7 Product= 388475451\n",
            "n= 70 Product= 583671375\n",
            "n= 97 Product= 580479972\n",
            "n= 54 Product= 611989092\n",
            "n= 41 Product= 613322680\n",
            "n= 77 Product= 605111857\n",
            "n= 18 Product= 532855874\n",
            "n= 35 Product= 570691110\n",
            "n= 76 Product= 597401793\n",
            "n= 66 Product= 591921675\n",
            "n= 44 Product= 602627648\n",
            "n= 7 Product= 611450092\n",
            "n= 26 Product= 570060288\n",
            "n= 74 Product= 620282874\n",
            "n= 14 Product= 541783385\n",
            "n= 33 Product= 525345646\n",
            "n= 42 Product= 563370093\n",
            "n= 17 Product= 504802372\n",
            "n= 64 Product= 586156392\n",
            "n= 99 Product= 621952565\n",
            "n= 88 Product= 621878816\n",
            "n= 75 Product= 606930732\n",
            "n= 96 Product= 612732456\n",
            "n= 85 Product= 594826260\n"
          ]
        }
      ]
    },
    {
      "cell_type": "code",
      "execution_count": null,
      "metadata": {
        "colab": {
          "base_uri": "https://localhost:8080/"
        },
        "id": "RL76YQeXtNrJ",
        "outputId": "5a48c0d2-9f8a-4eba-ef5b-6e4802cca1a1"
      },
      "outputs": [
        {
          "output_type": "stream",
          "name": "stdout",
          "text": [
            "n: 43 Product: 638051975\n",
            "n: 70 Product: 638578710\n",
            "n: 51 Product: 595691697\n",
            "n: 4 Product: 232343358\n",
            "n: 74 Product: 613176172\n",
            "n: 90 Product: 649815240\n",
            "n: 60 Product: 639356480\n",
            "n: 58 Product: 642877200\n",
            "n: 38 Product: 526980920\n",
            "n: 79 Product: 641694325\n",
            "n: 70 Product: 625297332\n",
            "n: 65 Product: 644804385\n",
            "n: 57 Product: 624333063\n",
            "n: 84 Product: 654566634\n",
            "n: 12 Product: 513467297\n",
            "n: 88 Product: 637172511\n",
            "n: 18 Product: 618366628\n",
            "n: 35 Product: 629723830\n",
            "n: 42 Product: 629234496\n",
            "n: 70 Product: 643135377\n",
            "n: 56 Product: 640658140\n",
            "n: 26 Product: 550814852\n",
            "n: 65 Product: 647343945\n",
            "n: 83 Product: 645400569\n",
            "n: 38 Product: 646923349\n",
            "n: 86 Product: 634787881\n",
            "n: 2 Product: 25018241\n",
            "n: 53 Product: 621414237\n",
            "n: 52 Product: 650706872\n",
            "n: 68 Product: 629907923\n",
            "n: 93 Product: 640742928\n",
            "n: 89 Product: 647420030\n",
            "n: 98 Product: 622844643\n",
            "n: 4 Product: 389582906\n",
            "n: 43 Product: 648347469\n",
            "n: 47 Product: 607820220\n",
            "n: 70 Product: 603927709\n",
            "n: 49 Product: 635699702\n",
            "n: 39 Product: 564157152\n",
            "n: 98 Product: 625139605\n",
            "n: 84 Product: 645870667\n",
            "n: 78 Product: 650400200\n",
            "n: 34 Product: 570278940\n",
            "n: 69 Product: 615177322\n",
            "n: 51 Product: 608902591\n",
            "n: 93 Product: 624642653\n",
            "n: 49 Product: 645335262\n",
            "n: 61 Product: 653927103\n",
            "n: 71 Product: 635650000\n",
            "n: 20 Product: 395084908\n",
            "n: 10 Product: 441463270\n",
            "n: 12 Product: 260387144\n",
            "n: 66 Product: 636030197\n",
            "n: 24 Product: 634982032\n",
            "n: 61 Product: 648903067\n",
            "n: 29 Product: 609002730\n",
            "n: 80 Product: 620370120\n",
            "n: 3 Product: 91923494\n",
            "n: 96 Product: 645746943\n",
            "n: 44 Product: 650088545\n",
            "n: 9 Product: 399806632\n",
            "n: 44 Product: 605556276\n",
            "n: 32 Product: 630185370\n",
            "n: 69 Product: 647187671\n",
            "n: 33 Product: 607904430\n",
            "n: 17 Product: 604747549\n",
            "n: 22 Product: 545730528\n",
            "n: 5 Product: 497008948\n",
            "n: 56 Product: 615113802\n",
            "n: 5 Product: 352625625\n",
            "n: 61 Product: 600902562\n",
            "n: 37 Product: 600319596\n",
            "n: 91 Product: 615043250\n",
            "n: 6 Product: 417509300\n",
            "n: 49 Product: 580798512\n",
            "n: 73 Product: 640242918\n",
            "n: 71 Product: 632773989\n",
            "n: 90 Product: 642622436\n",
            "n: 83 Product: 638743160\n",
            "n: 34 Product: 645006709\n",
            "n: 66 Product: 642767720\n",
            "n: 59 Product: 596245052\n",
            "n: 57 Product: 625501721\n",
            "n: 8 Product: 383546584\n",
            "n: 72 Product: 616716480\n",
            "n: 11 Product: 622356288\n",
            "n: 94 Product: 651240720\n",
            "n: 88 Product: 630644168\n",
            "n: 54 Product: 613708585\n",
            "n: 94 Product: 632012580\n",
            "n: 13 Product: 449117280\n",
            "n: 76 Product: 639348320\n",
            "n: 18 Product: 620970235\n",
            "n: 64 Product: 649306632\n",
            "n: 36 Product: 537429718\n",
            "n: 47 Product: 601632012\n",
            "n: 40 Product: 581063574\n",
            "n: 74 Product: 644931418\n",
            "n: 51 Product: 579952864\n",
            "n: 27 Product: 625841266\n"
          ]
        }
      ],
      "source": [
        "!python stress_tests.py"
      ]
    },
    {
      "cell_type": "markdown",
      "metadata": {
        "id": "2beTmWFPOb_k"
      },
      "source": [
        "Count executed instructions in code and verify with inputs 1,2 and 3\n"
      ]
    },
    {
      "cell_type": "code",
      "execution_count": null,
      "metadata": {
        "colab": {
          "base_uri": "https://localhost:8080/"
        },
        "id": "iuByv4x1Ob_k",
        "outputId": "7ba8be0d-2c40-4ea7-c0fe-c6279412e4e2"
      },
      "outputs": [
        {
          "output_type": "stream",
          "name": "stdout",
          "text": [
            "Writing max_pairwise_product_with_sort_and_instructions.py\n"
          ]
        }
      ],
      "source": [
        "%%writefile max_pairwise_product_with_sort_and_instructions.py\n",
        "#Python3\n",
        "import math\n",
        "if __name__ == \"__main__\":\n",
        "    inst=0\n",
        "    n = int(input())\n",
        "    inst+=1\n",
        "    lista = list(map(int, input().split()))\n",
        "    inst+= 4*n\n",
        "    lista.sort()\n",
        "    inst+=  n * math.log2(n)\n",
        "    print(lista[n - 1] * lista[n - 2])\n",
        "    inst+=1\n",
        "    print(f\"Instrucciones ejecutadas: {int(inst)}\\n\")"
      ]
    },
    {
      "cell_type": "code",
      "source": [
        "%%writefile max_pairwise_product_with_sort_C_and_instructions.cpp\n",
        "#include <iostream>\n",
        "#include <vector>\n",
        "#include <algorithm>\n",
        "#include <cmath>\n",
        "\n",
        "int main() {\n",
        "    int inst;\n",
        "    int n;                                                //1\n",
        "    inst++;\n",
        "    std::cin >> n;                                        //1\n",
        "    inst++;\n",
        "    std::vector<int> numbers(n);                          //n\n",
        "    inst+=n;\n",
        "    inst+=1;                                              // add the declaration of i=0\n",
        "    for (int i = 0; i < n; ++i) {                         //1 + 2n\n",
        "        inst+=2;\n",
        "        std::cin >> numbers[i];                           //n\n",
        "        inst++;\n",
        "    }\n",
        "\n",
        "    std::sort(numbers.begin(), numbers.end());                          //nlogn\n",
        "    inst+=n * log2(n);\n",
        "    std::cout << (long long) numbers[n - 1] * numbers[n - 2] << '\\n';   //2\n",
        "    inst+=2;\n",
        "    std::cout << \"Instrucciones Ejecutadas: \" << inst << '\\n';\n",
        "    return 0;\n",
        "\n",
        "\n",
        "}"
      ],
      "metadata": {
        "colab": {
          "base_uri": "https://localhost:8080/"
        },
        "id": "ph_V-kw8zhBA",
        "outputId": "c9b8eac3-a9fa-4002-cf0c-d3982889373d"
      },
      "execution_count": null,
      "outputs": [
        {
          "output_type": "stream",
          "name": "stdout",
          "text": [
            "Overwriting max_pairwise_product_with_sort_C_and_instructions.cpp\n"
          ]
        }
      ]
    },
    {
      "cell_type": "code",
      "source": [
        "!g++ max_pairwise_product_with_sort_C_and_instructions.cpp -o max_pairwise_product_with_sort_C_and_instructions"
      ],
      "metadata": {
        "id": "TKPptaNV1UgZ"
      },
      "execution_count": null,
      "outputs": []
    },
    {
      "cell_type": "code",
      "source": [
        "!./max_pairwise_product_with_sort_C_and_instructions < input1.txt\n",
        "!./max_pairwise_product_with_sort_C_and_instructions < input2.txt\n",
        "!./max_pairwise_product_with_sort_C_and_instructions < input3.txt"
      ],
      "metadata": {
        "colab": {
          "base_uri": "https://localhost:8080/"
        },
        "id": "vKMS_Wg61xRj",
        "outputId": "85fb5653-9517-480c-80b4-9a84d84e559f"
      },
      "execution_count": null,
      "outputs": [
        {
          "output_type": "stream",
          "name": "stdout",
          "text": [
            "90\n",
            "Instrucciones Ejecutadas: 78\n",
            "90\n",
            "Instrucciones Ejecutadas: 78\n",
            "40000000000\n",
            "Instrucciones Ejecutadas: 44\n"
          ]
        }
      ]
    },
    {
      "cell_type": "code",
      "execution_count": null,
      "metadata": {
        "colab": {
          "base_uri": "https://localhost:8080/"
        },
        "id": "uRJDcggfvls9",
        "outputId": "4ecc57e6-ece9-488e-a305-f96b6780aab2"
      },
      "outputs": [
        {
          "output_type": "stream",
          "name": "stdout",
          "text": [
            "90\n",
            "Instrucciones ejecutadas: 75\n",
            "\n",
            "90\n",
            "Instrucciones ejecutadas: 75\n",
            "\n",
            "40000000000\n",
            "Instrucciones ejecutadas: 41\n",
            "\n"
          ]
        }
      ],
      "source": [
        "!python max_pairwise_product_with_sort_and_instructions.py < input1.txt\n",
        "!python max_pairwise_product_with_sort_and_instructions.py < input2.txt\n",
        "!python max_pairwise_product_with_sort_and_instructions.py < input3.txt"
      ]
    },
    {
      "cell_type": "markdown",
      "metadata": {
        "id": "x2CXhkwTOb_l"
      },
      "source": [
        "Calculate estimated time by instruction and number of instructions by second"
      ]
    },
    {
      "cell_type": "code",
      "source": [
        "%%writefile max_pairwise_product_with_sort_and_instructions_with_time_and_IbS.py\n",
        "#Python3\n",
        "import math\n",
        "import time\n",
        "if __name__ == \"__main__\":\n",
        "    inicio = time.time()\n",
        "    inst=0\n",
        "    n = int(input())\n",
        "    inst+=1\n",
        "    lista = list(map(int, input().split()))\n",
        "    inst+= 4*n\n",
        "    lista.sort()\n",
        "    inst+=  n * math.log2(n)\n",
        "    print(lista[n - 1] * lista[n - 2])\n",
        "    inst+=1\n",
        "    print(f\"Instrucciones ejecutadas: {int(inst)}\")\n",
        "    fin = time.time()\n",
        "    tiempo_total = fin - inicio\n",
        "    instructionTime = tiempo_total/inst\n",
        "    instructionBySecond= inst/tiempo_total\n",
        "\n",
        "    print(f\"Tiempo total de ejecución: {tiempo_total*1000} milisegundos\")\n",
        "    print(f\"Tiempo estimado de cada instruccion: {instructionTime*1000} milisegundos\")\n",
        "    print(f\"Instrucciones por segundo: {int(instructionBySecond)} \")"
      ],
      "metadata": {
        "colab": {
          "base_uri": "https://localhost:8080/"
        },
        "id": "O6n4FBQodpG2",
        "outputId": "6c3aa8b3-83d2-40a0-d304-52b89d8bd792"
      },
      "execution_count": null,
      "outputs": [
        {
          "output_type": "stream",
          "name": "stdout",
          "text": [
            "Overwriting max_pairwise_product_with_sort_and_instructions_with_time_and_IbS.py\n"
          ]
        }
      ]
    },
    {
      "cell_type": "code",
      "execution_count": null,
      "metadata": {
        "colab": {
          "base_uri": "https://localhost:8080/"
        },
        "id": "nTjxyTMtOb_l",
        "outputId": "dfea5ee6-212a-461a-d5b5-70ebcb1a3f3e"
      },
      "outputs": [
        {
          "output_type": "stream",
          "name": "stdout",
          "text": [
            "120989000\n",
            "Instrucciones ejecutadas: 202679\n",
            "Tiempo total de ejecución: 2.35748291015625 milisegundos\n",
            "Tiempo estimado de cada instruccion: 1.1631587628969453e-05 milisegundos\n",
            "Instrucciones por segundo: 85972786 \n"
          ]
        }
      ],
      "source": [
        "!python max_pairwise_product_with_sort_and_instructions_with_time_and_IbS.py < input13.txt"
      ]
    },
    {
      "cell_type": "markdown",
      "metadata": {
        "id": "k2K-Ujq0jlV9"
      },
      "source": [
        "### Estimate and verify the maximun n that can be solved in 1 second"
      ]
    },
    {
      "cell_type": "code",
      "source": [
        "%%writefile maximun_n_that_can_be_solved.py\n",
        "#Python3\n",
        "import random\n",
        "\n",
        "if __name__ == \"__main__\":\n",
        "      n = 600000\n",
        "      lista = [random.randint(17, 25631) for i in range(n)]\n",
        "      lista.sort()\n",
        "      print(f\"n: {n} Product: {lista[n - 1] * lista[n - 2]}\")"
      ],
      "metadata": {
        "colab": {
          "base_uri": "https://localhost:8080/"
        },
        "id": "GxH3mYpYju9x",
        "outputId": "171faad7-9209-4256-fdf8-ce8e9720f92d"
      },
      "execution_count": null,
      "outputs": [
        {
          "output_type": "stream",
          "name": "stdout",
          "text": [
            "Overwriting maximun_n_that_can_be_solved.py\n"
          ]
        }
      ]
    },
    {
      "cell_type": "code",
      "source": [
        "%%time\n",
        "!python maximun_n_that_can_be_solved.py"
      ],
      "metadata": {
        "colab": {
          "base_uri": "https://localhost:8080/"
        },
        "id": "vvvU8_Slo9sh",
        "outputId": "d35b595f-9171-4429-f9da-8d46a47cd4e8"
      },
      "execution_count": null,
      "outputs": [
        {
          "output_type": "stream",
          "name": "stdout",
          "text": [
            "n: 600000 Product: 656948161\n",
            "CPU times: user 9.63 ms, sys: 6.81 ms, total: 16.4 ms\n",
            "Wall time: 1.01 s\n"
          ]
        }
      ]
    },
    {
      "cell_type": "code",
      "source": [
        "%%writefile maximun_n_that_can_be_solved_C.cpp\n",
        "#include <iostream>\n",
        "#include <vector>\n",
        "#include <algorithm>\n",
        "#include <random>\n",
        "\n",
        "int main() {\n",
        "    std::random_device rd;\n",
        "    std::mt19937 gen(rd());\n",
        "    std::uniform_int_distribution<int> n_dist(2, 99);\n",
        "    std::uniform_int_distribution<int> num_dist(0, 25000);\n",
        "    int n = 1700000;                              //1\n",
        "    std::vector<int> numbers(n);                          //n\n",
        "    for (int i = 0; i < n; ++i) {                         //1 + 2n\n",
        "      numbers[i]= num_dist(gen);                           //n\n",
        "    }\n",
        "\n",
        "    std::sort(numbers.begin(), numbers.end());                          //nlogn\n",
        "    std::cout << \"n= \"<< n << \" Product= \" << (long long) numbers[n - 1] * numbers[n - 2] << '\\n';   //2\n",
        "    return 0;\n",
        "\n",
        "}"
      ],
      "metadata": {
        "colab": {
          "base_uri": "https://localhost:8080/"
        },
        "id": "GqVNwkxeqBLv",
        "outputId": "76f4dac6-7266-4e20-e0dc-ced9b0dc6bd0"
      },
      "execution_count": null,
      "outputs": [
        {
          "output_type": "stream",
          "name": "stdout",
          "text": [
            "Overwriting maximun_n_that_can_be_solved_C.cpp\n"
          ]
        }
      ]
    },
    {
      "cell_type": "code",
      "source": [
        "!g++ maximun_n_that_can_be_solved_C.cpp -o maximun_n_that_can_be_solved_C\n",
        "!time ./maximun_n_that_can_be_solved_C"
      ],
      "metadata": {
        "colab": {
          "base_uri": "https://localhost:8080/"
        },
        "id": "puvZwtaQqj81",
        "outputId": "bd59a5e9-d50d-4d67-d988-9e2b6bd51c98"
      },
      "execution_count": null,
      "outputs": [
        {
          "output_type": "stream",
          "name": "stdout",
          "text": [
            "n= 1700000 Product= 625000000\n",
            "\n",
            "real\t0m1.085s\n",
            "user\t0m1.028s\n",
            "sys\t0m0.007s\n"
          ]
        }
      ]
    },
    {
      "cell_type": "markdown",
      "metadata": {
        "id": "VMKC5duEOQfk"
      },
      "source": [
        "### Efficient solution largest and second-largest in an list, array or vector in C++ and Python\n",
        " $$2.5 n = O(n)$$\n",
        "\n",
        "\n",
        "\n"
      ]
    },
    {
      "cell_type": "markdown",
      "metadata": {
        "id": "nLcKBwbU0QsE"
      },
      "source": [
        "Add in each line a coment with the number of intstrcution that are executed in that line"
      ]
    },
    {
      "cell_type": "code",
      "source": [
        "%%writefile max_pairwise_product_long_efficient.cpp\n",
        "#include <iostream>\n",
        "#include <vector>\n",
        "#include <algorithm>\n",
        "\n",
        "long long MaxPairwiseProduct(const std::vector<int>& numbers) {\n",
        "    long long max_product = 0LL;                                             //1\n",
        "\t  long long n_major = 0LL;\n",
        "    long long n_major_2 = 0LL;                                             //1\n",
        "    int n = numbers.size();                                                  //1\n",
        "\n",
        "    for(int i = 0; i < n; ++i) {                   //1 + 2n\n",
        "      if (numbers[i] > n_major){\n",
        "        n_major_2 = n_major ;                //n\n",
        "        n_major = numbers[i];\n",
        "      }\n",
        "      else if (numbers[i] > n_major_2){                   //n\n",
        "        n_major_2 = numbers[i];                    //[0, n]\n",
        "\n",
        "      }\n",
        "    }\n",
        "    max_product=n_major*n_major_2;                                                                          // --------------\n",
        "    return max_product;\n",
        "}\n",
        "\n",
        "int main() {\n",
        "    int n;                                                //1\n",
        "    std::cin >> n;                                        //1\n",
        "    std::vector<int> numbers(n);                          //n\n",
        "    for (int i = 0; i < n; ++i) {                         //1 + 2n\n",
        "        std::cin >> numbers[i];                           //n\n",
        "    }\n",
        "\n",
        "    std::cout << MaxPairwiseProduct(numbers) << \"\\n\";\n",
        "    return 0;\n",
        "}"
      ],
      "metadata": {
        "id": "w-55b7pA79Lq",
        "colab": {
          "base_uri": "https://localhost:8080/"
        },
        "outputId": "e11749ab-b54a-449f-a380-2fdf32e30e95"
      },
      "execution_count": null,
      "outputs": [
        {
          "output_type": "stream",
          "name": "stdout",
          "text": [
            "Overwriting max_pairwise_product_long_efficient.cpp\n"
          ]
        }
      ]
    },
    {
      "cell_type": "code",
      "execution_count": null,
      "metadata": {
        "id": "knls5Fh3NSt_"
      },
      "outputs": [],
      "source": [
        "!g++ max_pairwise_product_long_efficient.cpp -o max_pairwise_product_long_efficient"
      ]
    },
    {
      "cell_type": "code",
      "source": [
        "%%writefile max_pairwise_product_efficient.py\n",
        "#Python3\n",
        "def max_pairwise_product(lista):\n",
        "    n_major = 0\n",
        "    n_major_2 = 0\n",
        "    max_product = 0\n",
        "    for i in lista:\n",
        "        if i > n_major:\n",
        "            n_major_2=n_major\n",
        "            n_major = i\n",
        "        elif i > n_major_2:\n",
        "            n_major_2=i\n",
        "    max_product = n_major_2 * n_major\n",
        "\n",
        "    return max_product\n",
        "\n",
        "if __name__ == \"__main__\":\n",
        "    n = int(input())\n",
        "    lista = list(map(int, input().split()))\n",
        "    print(max_pairwise_product(lista))"
      ],
      "metadata": {
        "colab": {
          "base_uri": "https://localhost:8080/"
        },
        "id": "zy74VU4XnEGE",
        "outputId": "de650e23-4340-4ae9-cbf7-030bd14cfa94"
      },
      "execution_count": null,
      "outputs": [
        {
          "output_type": "stream",
          "name": "stdout",
          "text": [
            "Overwriting max_pairwise_product_efficient.py\n"
          ]
        }
      ]
    },
    {
      "cell_type": "markdown",
      "metadata": {
        "id": "-JCijbWxNSii"
      },
      "source": [
        "Test with inputs 1 and 2\n",
        "\n"
      ]
    },
    {
      "cell_type": "code",
      "execution_count": null,
      "metadata": {
        "id": "TrTGAfqlNVXT",
        "colab": {
          "base_uri": "https://localhost:8080/"
        },
        "outputId": "df8a0bde-630f-4158-fb07-7a678b77ce10"
      },
      "outputs": [
        {
          "output_type": "stream",
          "name": "stdout",
          "text": [
            "90\n",
            "90\n"
          ]
        }
      ],
      "source": [
        "!./max_pairwise_product_long_efficient < input1.txt\n",
        "!./max_pairwise_product_long_efficient < input2.txt\n"
      ]
    },
    {
      "cell_type": "code",
      "source": [
        "!python max_pairwise_product_efficient.py < input1.txt\n",
        "!python max_pairwise_product_efficient.py < input2.txt"
      ],
      "metadata": {
        "colab": {
          "base_uri": "https://localhost:8080/"
        },
        "id": "IpBwT9d5oT2k",
        "outputId": "be3f60c7-a64e-4533-d53e-5680213ee4de"
      },
      "execution_count": null,
      "outputs": [
        {
          "output_type": "stream",
          "name": "stdout",
          "text": [
            "90\n",
            "90\n"
          ]
        }
      ]
    },
    {
      "cell_type": "markdown",
      "metadata": {
        "id": "PRX51wADNR8b"
      },
      "source": [
        "Test and time it with input 3"
      ]
    },
    {
      "cell_type": "code",
      "execution_count": null,
      "metadata": {
        "id": "v4z7-Is_NRt7",
        "colab": {
          "base_uri": "https://localhost:8080/"
        },
        "outputId": "2d18a420-47ad-4d37-a38b-b9781766c859"
      },
      "outputs": [
        {
          "output_type": "stream",
          "name": "stdout",
          "text": [
            "40000000000\n",
            "CPU times: user 5.37 ms, sys: 2.18 ms, total: 7.55 ms\n",
            "Wall time: 107 ms\n"
          ]
        }
      ],
      "source": [
        "%%time\n",
        "!python max_pairwise_product_efficient.py < input3.txt"
      ]
    },
    {
      "cell_type": "code",
      "source": [
        "!time ./max_pairwise_product_long_efficient < input3.txt"
      ],
      "metadata": {
        "colab": {
          "base_uri": "https://localhost:8080/"
        },
        "id": "U6Zd7tvlqXdg",
        "outputId": "2c3de46b-a265-4db2-91a7-b6726fea732c"
      },
      "execution_count": null,
      "outputs": [
        {
          "output_type": "stream",
          "name": "stdout",
          "text": [
            "40000000000\n",
            "\n",
            "real\t0m0.003s\n",
            "user\t0m0.001s\n",
            "sys\t0m0.002s\n"
          ]
        }
      ]
    },
    {
      "cell_type": "markdown",
      "metadata": {
        "id": "rpdfs0_TNZJf"
      },
      "source": [
        "# 100 stress tests"
      ]
    },
    {
      "cell_type": "code",
      "execution_count": null,
      "metadata": {
        "id": "Lu4tYcKzNcTT",
        "colab": {
          "base_uri": "https://localhost:8080/"
        },
        "outputId": "caa7b002-7d1d-4fe5-94a5-4a59937283f8"
      },
      "outputs": [
        {
          "output_type": "stream",
          "name": "stdout",
          "text": [
            "Writing max_pairwise_product_long_efficient_stress_test.cpp\n"
          ]
        }
      ],
      "source": [
        "%%writefile max_pairwise_product_long_efficient_stress_test.cpp\n",
        "#include <iostream>\n",
        "#include <vector>\n",
        "#include <algorithm>\n",
        "#include <random>\n",
        "\n",
        "long long MaxPairwiseProduct(const std::vector<int>& numbers) {\n",
        "    long long max_product = 0LL;                                             //1\n",
        "\t  long long n_major = 0LL;\n",
        "    long long n_major_2 = 0LL;                                             //1\n",
        "    int n = numbers.size();                                                  //1\n",
        "\n",
        "    for(int i = 0; i < n; ++i) {                   //1 + 2n\n",
        "      if (numbers[i] > n_major){\n",
        "        n_major_2 = n_major ;                //n\n",
        "        n_major = numbers[i];\n",
        "      }\n",
        "      else if (numbers[i] > n_major_2){                   //n\n",
        "        n_major_2 = numbers[i];                    //[0, n]\n",
        "\n",
        "      }\n",
        "    }\n",
        "    max_product=n_major*n_major_2;                                                                          // --------------\n",
        "    return max_product;\n",
        "}\n",
        "\n",
        "int main() {\n",
        "    std::random_device rd;\n",
        "    std::mt19937 gen(rd());\n",
        "    std::uniform_int_distribution<int> n_dist(2, 99);\n",
        "    std::uniform_int_distribution<int> num_dist(0, 25000);\n",
        "    int n;                                                //1\n",
        "    std::vector<int> numbers(n);                          //n\n",
        "    for (int i = 0; i < 100; ++i ){\n",
        "      int n = n_dist(gen);                              //1\n",
        "      std::vector<int> numbers(n);                          //n\n",
        "      for (int i = 0; i < n; ++i) {                         //1 + 2n\n",
        "        numbers[i]= num_dist(gen);                           //n\n",
        "      }\n",
        "      std::cout << \"n= \"<< n << \" Product= \" << MaxPairwiseProduct(numbers) << \"\\n\";\n",
        "    }\n",
        "    return 0;\n",
        "}"
      ]
    },
    {
      "cell_type": "code",
      "source": [
        "!g++ max_pairwise_product_long_efficient_stress_test.cpp -o max_pairwise_product_long_efficient_stress_test\n",
        "!./max_pairwise_product_long_efficient_stress_test"
      ],
      "metadata": {
        "colab": {
          "base_uri": "https://localhost:8080/"
        },
        "id": "4_jt2qyVTpj1",
        "outputId": "571560a2-2f3a-4421-c174-7b7d0c3db6e7"
      },
      "execution_count": null,
      "outputs": [
        {
          "output_type": "stream",
          "name": "stdout",
          "text": [
            "n= 79 Product= 600262944\n",
            "n= 59 Product= 595265720\n",
            "n= 36 Product= 586240568\n",
            "n= 56 Product= 579821900\n",
            "n= 34 Product= 548035760\n",
            "n= 48 Product= 581870048\n",
            "n= 20 Product= 568614292\n",
            "n= 43 Product= 509334049\n",
            "n= 37 Product= 615915168\n",
            "n= 8 Product= 593384370\n",
            "n= 16 Product= 418700928\n",
            "n= 75 Product= 576837942\n",
            "n= 93 Product= 612391808\n",
            "n= 74 Product= 583227900\n",
            "n= 25 Product= 559686393\n",
            "n= 34 Product= 548960276\n",
            "n= 59 Product= 565402056\n",
            "n= 85 Product= 579838479\n",
            "n= 93 Product= 607745414\n",
            "n= 21 Product= 569524373\n",
            "n= 39 Product= 585243063\n",
            "n= 37 Product= 614879716\n",
            "n= 33 Product= 443610707\n",
            "n= 91 Product= 579694487\n",
            "n= 64 Product= 570541680\n",
            "n= 3 Product= 215299250\n",
            "n= 43 Product= 605921508\n",
            "n= 97 Product= 614758169\n",
            "n= 57 Product= 601964354\n",
            "n= 95 Product= 619480238\n",
            "n= 46 Product= 578289404\n",
            "n= 35 Product= 522166740\n",
            "n= 81 Product= 577818048\n",
            "n= 83 Product= 608465312\n",
            "n= 65 Product= 611964020\n",
            "n= 50 Product= 621778608\n",
            "n= 34 Product= 501286310\n",
            "n= 66 Product= 621454600\n",
            "n= 50 Product= 581360988\n",
            "n= 28 Product= 599211240\n",
            "n= 69 Product= 567493605\n",
            "n= 10 Product= 535809120\n",
            "n= 52 Product= 602200864\n",
            "n= 61 Product= 612410604\n",
            "n= 17 Product= 554092500\n",
            "n= 40 Product= 551385840\n",
            "n= 7 Product= 274078340\n",
            "n= 39 Product= 605642691\n",
            "n= 84 Product= 611826015\n",
            "n= 62 Product= 608180388\n",
            "n= 66 Product= 594786192\n",
            "n= 37 Product= 592539213\n",
            "n= 26 Product= 557759358\n",
            "n= 88 Product= 610324029\n",
            "n= 50 Product= 549191784\n",
            "n= 16 Product= 593026896\n",
            "n= 10 Product= 251202396\n",
            "n= 61 Product= 591317808\n",
            "n= 87 Product= 604366972\n",
            "n= 3 Product= 341261739\n",
            "n= 45 Product= 577607460\n",
            "n= 23 Product= 414216405\n",
            "n= 84 Product= 601019372\n",
            "n= 15 Product= 532688080\n",
            "n= 44 Product= 593958284\n",
            "n= 36 Product= 497963037\n",
            "n= 20 Product= 560683825\n",
            "n= 86 Product= 614983677\n",
            "n= 15 Product= 401013450\n",
            "n= 28 Product= 542560410\n",
            "n= 68 Product= 615310080\n",
            "n= 60 Product= 545772920\n",
            "n= 55 Product= 616702540\n",
            "n= 90 Product= 601570593\n",
            "n= 42 Product= 616636800\n",
            "n= 98 Product= 579646551\n",
            "n= 10 Product= 521596875\n",
            "n= 21 Product= 609063828\n",
            "n= 25 Product= 509279280\n",
            "n= 60 Product= 593978104\n",
            "n= 15 Product= 442561853\n",
            "n= 75 Product= 613029039\n",
            "n= 52 Product= 613250010\n",
            "n= 67 Product= 617432700\n",
            "n= 28 Product= 403746816\n",
            "n= 71 Product= 598958508\n",
            "n= 97 Product= 621429560\n",
            "n= 19 Product= 493250250\n",
            "n= 69 Product= 602381752\n",
            "n= 10 Product= 508282014\n",
            "n= 19 Product= 549035120\n",
            "n= 33 Product= 579840930\n",
            "n= 41 Product= 562436994\n",
            "n= 46 Product= 589999660\n",
            "n= 77 Product= 605650656\n",
            "n= 83 Product= 607991656\n",
            "n= 49 Product= 547391936\n",
            "n= 73 Product= 515191808\n",
            "n= 32 Product= 533470880\n",
            "n= 35 Product= 547576872\n"
          ]
        }
      ]
    },
    {
      "cell_type": "code",
      "source": [
        "%%writefile max_pairwise_product_efficient_stress_tests.py\n",
        "#Python3\n",
        "import random\n",
        "def max_pairwise_product(lista):\n",
        "    n_major = 0\n",
        "    n_major_2 = 0\n",
        "    max_product = 0\n",
        "    for i in lista:\n",
        "        if i > n_major:\n",
        "            n_major_2=n_major\n",
        "            n_major = i\n",
        "        elif i > n_major_2:\n",
        "            n_major_2=i\n",
        "    max_product = n_major_2 * n_major\n",
        "\n",
        "    return max_product\n",
        "\n",
        "if __name__ == \"__main__\":\n",
        "    for i in range(100):\n",
        "      n = random.randint(2, 99)\n",
        "      lista = [random.randint(17, 25631) for i in range(n)]\n",
        "      print(f\"n=  {n}   Product= {max_pairwise_product(lista)}\")"
      ],
      "metadata": {
        "colab": {
          "base_uri": "https://localhost:8080/"
        },
        "id": "4Rslcht2Uf3f",
        "outputId": "ee288323-0ee4-444f-9574-1829dca0ccd1"
      },
      "execution_count": null,
      "outputs": [
        {
          "output_type": "stream",
          "name": "stdout",
          "text": [
            "Writing max_pairwise_product_efficient_stress_tests.py\n"
          ]
        }
      ]
    },
    {
      "cell_type": "code",
      "source": [
        "!python max_pairwise_product_efficient_stress_tests.py"
      ],
      "metadata": {
        "colab": {
          "base_uri": "https://localhost:8080/"
        },
        "id": "TPqYcUa9U0zE",
        "outputId": "52c2903a-b8cc-4660-f118-d994753196af"
      },
      "execution_count": null,
      "outputs": [
        {
          "output_type": "stream",
          "name": "stdout",
          "text": [
            "n=  84   Product= 648769440\n",
            "n=  53   Product= 639457384\n",
            "n=  75   Product= 637420295\n",
            "n=  10   Product= 525058308\n",
            "n=  39   Product= 524683530\n",
            "n=  71   Product= 639528708\n",
            "n=  18   Product= 617941410\n",
            "n=  58   Product= 606869250\n",
            "n=  56   Product= 644645984\n",
            "n=  60   Product= 624806368\n",
            "n=  20   Product= 612463776\n",
            "n=  56   Product= 591282470\n",
            "n=  51   Product= 597258160\n",
            "n=  88   Product= 642183840\n",
            "n=  11   Product= 572572980\n",
            "n=  67   Product= 642370190\n",
            "n=  47   Product= 625949461\n",
            "n=  92   Product= 635065216\n",
            "n=  82   Product= 630012656\n",
            "n=  97   Product= 649468064\n",
            "n=  28   Product= 574401080\n",
            "n=  92   Product= 626992230\n",
            "n=  52   Product= 616231620\n",
            "n=  76   Product= 638278958\n",
            "n=  45   Product= 609865828\n",
            "n=  45   Product= 473725860\n",
            "n=  79   Product= 612205645\n",
            "n=  98   Product= 629837046\n",
            "n=  31   Product= 595255104\n",
            "n=  98   Product= 651492790\n",
            "n=  21   Product= 591697730\n",
            "n=  96   Product= 654847371\n",
            "n=  48   Product= 577049057\n",
            "n=  86   Product= 633283875\n",
            "n=  79   Product= 638925755\n",
            "n=  55   Product= 602046060\n",
            "n=  32   Product= 600968160\n",
            "n=  12   Product= 617549184\n",
            "n=  77   Product= 650340555\n",
            "n=  5   Product= 583636606\n",
            "n=  60   Product= 623521257\n",
            "n=  90   Product= 647192444\n",
            "n=  50   Product= 634410063\n",
            "n=  28   Product= 638607565\n",
            "n=  15   Product= 526021764\n",
            "n=  88   Product= 642308524\n",
            "n=  93   Product= 611720560\n",
            "n=  36   Product= 516055485\n",
            "n=  43   Product= 597402501\n",
            "n=  60   Product= 644142956\n",
            "n=  58   Product= 610167540\n",
            "n=  71   Product= 617489632\n",
            "n=  8   Product= 228327008\n",
            "n=  12   Product= 541170126\n",
            "n=  83   Product= 650497969\n",
            "n=  65   Product= 576877000\n",
            "n=  37   Product= 638724408\n",
            "n=  86   Product= 649127460\n",
            "n=  86   Product= 637057311\n",
            "n=  62   Product= 624413410\n",
            "n=  24   Product= 544823760\n",
            "n=  87   Product= 640259292\n",
            "n=  82   Product= 629040972\n",
            "n=  30   Product= 625595383\n",
            "n=  46   Product= 638571456\n",
            "n=  53   Product= 628998300\n",
            "n=  4   Product= 472409040\n",
            "n=  49   Product= 606882784\n",
            "n=  83   Product= 650479430\n",
            "n=  97   Product= 639676428\n",
            "n=  48   Product= 610121211\n",
            "n=  58   Product= 620886865\n",
            "n=  47   Product= 622903160\n",
            "n=  38   Product= 599990784\n",
            "n=  15   Product= 457804384\n",
            "n=  24   Product= 566565120\n",
            "n=  37   Product= 600298217\n",
            "n=  51   Product= 604665791\n",
            "n=  33   Product= 600836740\n",
            "n=  65   Product= 645696590\n",
            "n=  50   Product= 635623040\n",
            "n=  58   Product= 639728922\n",
            "n=  52   Product= 626701035\n",
            "n=  75   Product= 648611968\n",
            "n=  61   Product= 574401213\n",
            "n=  6   Product= 365675662\n",
            "n=  15   Product= 551128784\n",
            "n=  26   Product= 515762832\n",
            "n=  92   Product= 644369648\n",
            "n=  52   Product= 612884177\n",
            "n=  38   Product= 625776910\n",
            "n=  35   Product= 600208984\n",
            "n=  2   Product= 650972\n",
            "n=  10   Product= 624721672\n",
            "n=  78   Product= 621221720\n",
            "n=  95   Product= 644719900\n",
            "n=  35   Product= 599661783\n",
            "n=  28   Product= 646142544\n",
            "n=  64   Product= 599924598\n",
            "n=  97   Product= 641181780\n"
          ]
        }
      ]
    },
    {
      "cell_type": "markdown",
      "metadata": {
        "id": "L8U4151JNbxk"
      },
      "source": [
        "Count executed instructions in code and verify with inputs 1,2 and 3\n"
      ]
    },
    {
      "cell_type": "code",
      "execution_count": null,
      "metadata": {
        "id": "dh85RM8vNhFz",
        "colab": {
          "base_uri": "https://localhost:8080/"
        },
        "outputId": "89aec422-c43c-427a-b490-df864b6d869c"
      },
      "outputs": [
        {
          "output_type": "stream",
          "name": "stdout",
          "text": [
            "Overwriting max_pairwise_product_long_efficient_and_instructions.cpp\n"
          ]
        }
      ],
      "source": [
        "%%writefile max_pairwise_product_long_efficient_and_instructions.cpp\n",
        "#include <iostream>\n",
        "#include <vector>\n",
        "#include <algorithm>\n",
        "\n",
        "long long inst= 0LL;\n",
        "\n",
        "long long MaxPairwiseProduct(const std::vector<int>& numbers) {\n",
        "    long long max_product = 0LL;                                             //1\n",
        "    inst++;\n",
        "\t  long long n_major = 0LL;\n",
        "    inst++;\n",
        "    long long n_major_2 = 0LL;                                             //1\n",
        "    inst++;\n",
        "    int n = numbers.size();                                                  //1\n",
        "    inst++;\n",
        "    inst++;\n",
        "    for(int i = 0; i < n; ++i) {                   //1 + 2n\n",
        "      inst+=2;\n",
        "      inst++;\n",
        "      if (numbers[i] > n_major){\n",
        "        inst++;\n",
        "        n_major_2 = n_major ;                //n\n",
        "        inst++;\n",
        "        n_major = numbers[i];\n",
        "        inst++;\n",
        "      }\n",
        "      else if (numbers[i] > n_major_2){\n",
        "        inst++;\n",
        "        n_major_2 = numbers[i];                    //[0, n]\n",
        "        inst++;\n",
        "        inst++;\n",
        "      }\n",
        "    }\n",
        "    max_product=n_major*n_major_2;\n",
        "    inst++;                                                                         // --------------\n",
        "    return max_product;\n",
        "}\n",
        "\n",
        "int main() {\n",
        "    int n;                                                //1\n",
        "    inst++;\n",
        "    std::cin >> n;                                        //1\n",
        "    inst++;\n",
        "    std::vector<int> numbers(n);                          //n\n",
        "    inst++;\n",
        "    inst++;\n",
        "    for (int i = 0; i < n; ++i) {                         //1 + 2n\n",
        "        std::cin >> numbers[i];                           //n\n",
        "    }\n",
        "    inst+=n;\n",
        "\n",
        "    std::cout << MaxPairwiseProduct(numbers) << \"\\n\";\n",
        "    inst++;\n",
        "    std::cout <<\"Numero de instrucciones: \"<< inst << \"\\n\";\n",
        "    return 0;\n",
        "}"
      ]
    },
    {
      "cell_type": "code",
      "source": [
        "!g++ max_pairwise_product_long_efficient_and_instructions.cpp -o max_pairwise_product_long_efficient_and_instructions"
      ],
      "metadata": {
        "id": "8UEdQdpmsipW"
      },
      "execution_count": null,
      "outputs": []
    },
    {
      "cell_type": "code",
      "source": [
        "!./max_pairwise_product_long_efficient_and_instructions < input1.txt\n",
        "!./max_pairwise_product_long_efficient_and_instructions < input2.txt\n",
        "!./max_pairwise_product_long_efficient_and_instructions < input3.txt"
      ],
      "metadata": {
        "colab": {
          "base_uri": "https://localhost:8080/"
        },
        "id": "8sIKgglnsqvm",
        "outputId": "ce1cb32c-564d-480b-c9bf-3520f0091edf"
      },
      "execution_count": null,
      "outputs": [
        {
          "output_type": "stream",
          "name": "stdout",
          "text": [
            "90\n",
            "Numero de instrucciones: 81\n",
            "90\n",
            "Numero de instrucciones: 57\n",
            "40000000000\n",
            "Numero de instrucciones: 50\n"
          ]
        }
      ]
    },
    {
      "cell_type": "code",
      "source": [
        "%%writefile max_pairwise_product_efficient_and_instructions.py\n",
        "#Python3\n",
        "\n",
        "inst=0\n",
        "def max_pairwise_product(lista):\n",
        "    global inst\n",
        "    n_major = 0\n",
        "    inst+=1\n",
        "    n_major_2 = 0\n",
        "    inst+=1\n",
        "    max_product = 0\n",
        "    inst+=1\n",
        "    for i in lista:\n",
        "        inst+=1\n",
        "        if i > n_major:\n",
        "            inst+=1\n",
        "            n_major_2=n_major\n",
        "            inst+=1\n",
        "            n_major = i\n",
        "            inst+=1\n",
        "        elif i > n_major_2:\n",
        "            inst+=1\n",
        "            n_major_2=i\n",
        "            inst+=1\n",
        "            inst+=1\n",
        "    max_product = n_major_2 * n_major\n",
        "    inst+=1\n",
        "\n",
        "    return max_product\n",
        "\n",
        "if __name__ == \"__main__\":\n",
        "    n = int(input())\n",
        "    inst+=1\n",
        "    lista = list(map(int, input().split()))\n",
        "    inst+=4*n\n",
        "    print(max_pairwise_product(lista))\n",
        "    inst+=1\n",
        "    print(f\"Numero Total de Instrucciones:  {inst}\")"
      ],
      "metadata": {
        "colab": {
          "base_uri": "https://localhost:8080/"
        },
        "id": "1j1Vnx-5yBZF",
        "outputId": "4f8cd58f-e076-4121-ac91-6ed19ca81b3f"
      },
      "execution_count": null,
      "outputs": [
        {
          "output_type": "stream",
          "name": "stdout",
          "text": [
            "Overwriting max_pairwise_product_efficient_and_instructions.py\n"
          ]
        }
      ]
    },
    {
      "cell_type": "code",
      "source": [
        "!python max_pairwise_product_efficient_and_instructions.py < input1.txt\n",
        "!python max_pairwise_product_efficient_and_instructions.py < input2.txt\n",
        "!python max_pairwise_product_efficient_and_instructions.py < input3.txt"
      ],
      "metadata": {
        "colab": {
          "base_uri": "https://localhost:8080/"
        },
        "id": "LgeEHuWlzIvT",
        "outputId": "2d85fcb1-601f-48f9-cc43-5d229cc966bb"
      },
      "execution_count": null,
      "outputs": [
        {
          "output_type": "stream",
          "name": "stdout",
          "text": [
            "90\n",
            "Numero Total de Instrucciones:  86\n",
            "90\n",
            "Numero Total de Instrucciones:  62\n",
            "40000000000\n",
            "Numero Total de Instrucciones:  51\n"
          ]
        }
      ]
    },
    {
      "cell_type": "markdown",
      "metadata": {
        "id": "K6ybgCmpNygr"
      },
      "source": [
        "Calculate estimated time by instruction and number of instructions by second"
      ]
    },
    {
      "cell_type": "code",
      "execution_count": null,
      "metadata": {
        "id": "kwe3G1O3Nz1w",
        "colab": {
          "base_uri": "https://localhost:8080/"
        },
        "outputId": "3d145f39-160e-49c5-cfcc-7a91919fd155"
      },
      "outputs": [
        {
          "output_type": "stream",
          "name": "stdout",
          "text": [
            "Overwriting max_pairwise_product_long_efficient_and_instructions_by_second.cpp\n"
          ]
        }
      ],
      "source": [
        "%%writefile max_pairwise_product_long_efficient_and_instructions_by_second.cpp\n",
        "#include <iostream>\n",
        "#include <vector>\n",
        "#include <algorithm>\n",
        "#include <chrono>\n",
        "\n",
        "long long inst= 0LL;\n",
        "\n",
        "long long MaxPairwiseProduct(const std::vector<int>& numbers) {\n",
        "    long long max_product = 0LL;                                             //1\n",
        "    inst++;\n",
        "\t  long long n_major = 0LL;\n",
        "    inst++;\n",
        "    long long n_major_2 = 0LL;                                             //1\n",
        "    inst++;\n",
        "    int n = numbers.size();                                                  //1\n",
        "    inst++;\n",
        "    inst++;\n",
        "    for(int i = 0; i < n; ++i) {                   //1 + 2n\n",
        "      inst+=2;\n",
        "      inst++;\n",
        "      if (numbers[i] > n_major){\n",
        "        inst++;\n",
        "        n_major_2 = n_major ;                //n\n",
        "        inst++;\n",
        "        n_major = numbers[i];\n",
        "        inst++;\n",
        "      }\n",
        "      else if (numbers[i] > n_major_2){\n",
        "        inst++;\n",
        "        n_major_2 = numbers[i];                    //[0, n]\n",
        "        inst++;\n",
        "        inst++;\n",
        "      }\n",
        "    }\n",
        "    max_product=n_major*n_major_2;\n",
        "    inst++;                                                                         // --------------\n",
        "    return max_product;\n",
        "}\n",
        "\n",
        "int main() {\n",
        "    auto start_time = std::chrono::high_resolution_clock::now();\n",
        "    int n;                                                //1\n",
        "    inst++;\n",
        "    std::cin >> n;                                        //1\n",
        "    inst++;\n",
        "    std::vector<int> numbers(n);                          //n\n",
        "    inst++;\n",
        "    inst++;\n",
        "    for (int i = 0; i < n; ++i) {                         //1 + 2n\n",
        "        std::cin >> numbers[i];                           //n\n",
        "    }\n",
        "    inst+=n;\n",
        "\n",
        "    std::cout << MaxPairwiseProduct(numbers) << \"\\n\";\n",
        "    inst++;\n",
        "    auto end_time = std::chrono::high_resolution_clock::now();\n",
        "    auto duration = std::chrono::duration_cast<std::chrono::milliseconds>(end_time - start_time);\n",
        "    float duration_sec,duration_f;\n",
        "    duration_f=static_cast<float>(duration.count());\n",
        "    duration_sec = duration_f/1000;\n",
        "    std::cout <<\"Numero de instrucciones: \"<< inst << \"\\n\";\n",
        "    std::cout <<\"Duracion Estiamda: \"<< duration_sec << \" segundos\" <<\"\\n\";\n",
        "    std::cout <<\"Duracion Estiamda por instruccion: \"<< duration_sec/inst << \" segundos\" <<\"\\n\";\n",
        "    std::cout <<\"Numero de instrucciones por segundo: \"<< 1/(duration_sec/inst) << \" Instrucciones\" <<\"\\n\";\n",
        "    return 0;\n",
        "}"
      ]
    },
    {
      "cell_type": "code",
      "source": [
        "!g++ max_pairwise_product_long_efficient_and_instructions_by_second.cpp -o max_pairwise_product_long_efficient_and_instructions_by_second"
      ],
      "metadata": {
        "id": "0q2NSqfZ0jO1"
      },
      "execution_count": null,
      "outputs": []
    },
    {
      "cell_type": "code",
      "source": [
        "!./max_pairwise_product_long_efficient_and_instructions_by_second < input13.txt"
      ],
      "metadata": {
        "colab": {
          "base_uri": "https://localhost:8080/"
        },
        "id": "kvgxgLr41k44",
        "outputId": "657e2f8d-e1e5-4d5d-c6f8-407138643b30"
      },
      "execution_count": null,
      "outputs": [
        {
          "output_type": "stream",
          "name": "stdout",
          "text": [
            "120989000\n",
            "Numero de instrucciones: 77011\n",
            "Duracion Estiamda: 0.007 segundos\n",
            "Duracion Estiamda por instruccion: 9.08961e-08 segundos\n",
            "Numero de instrucciones por segundo: 1.10016e+07 Instrucciones\n"
          ]
        }
      ]
    },
    {
      "cell_type": "code",
      "source": [
        "%%writefile max_pairwise_product_efficient_and_instructions_by_second.py\n",
        "#Python3\n",
        "import time\n",
        "\n",
        "inst=0\n",
        "def max_pairwise_product(lista):\n",
        "    global inst\n",
        "    n_major = 0\n",
        "    inst+=1\n",
        "    n_major_2 = 0\n",
        "    inst+=1\n",
        "    max_product = 0\n",
        "    inst+=1\n",
        "    for i in lista:\n",
        "        inst+=1\n",
        "        if i > n_major:\n",
        "            inst+=1\n",
        "            n_major_2=n_major\n",
        "            inst+=1\n",
        "            n_major = i\n",
        "            inst+=1\n",
        "        elif i > n_major_2:\n",
        "            inst+=1\n",
        "            n_major_2=i\n",
        "            inst+=1\n",
        "            inst+=1\n",
        "    max_product = n_major_2 * n_major\n",
        "    inst+=1\n",
        "\n",
        "    return max_product\n",
        "\n",
        "if __name__ == \"__main__\":\n",
        "    inicio=time.time()\n",
        "    n = int(input())\n",
        "    inst+=1\n",
        "    lista = list(map(int, input().split()))\n",
        "    inst+=4*n\n",
        "    print(max_pairwise_product(lista))\n",
        "    inst+=1\n",
        "    fin = time.time()\n",
        "    tiempo_total = fin - inicio\n",
        "    instructionTime = tiempo_total/inst\n",
        "    instructionBySecond= 1/instructionTime\n",
        "    print(f\"Numero Total de Instrucciones:  {inst}\")\n",
        "    print(f\"Tiempo total de ejecución: {tiempo_total} segundos\")\n",
        "    print(f\"Tiempo estimado de cada instruccion: {instructionTime} segundos\")\n",
        "    print(f\"Instrucciones por segundo: {int(instructionBySecond)} \")\n"
      ],
      "metadata": {
        "colab": {
          "base_uri": "https://localhost:8080/"
        },
        "id": "B9j4nUkY5hML",
        "outputId": "54f2867c-fcbb-41a0-8e82-5af76df4f517"
      },
      "execution_count": null,
      "outputs": [
        {
          "output_type": "stream",
          "name": "stdout",
          "text": [
            "Overwriting max_pairwise_product_efficient_and_instructions_by_second.py\n"
          ]
        }
      ]
    },
    {
      "cell_type": "code",
      "source": [
        "\n",
        "!python max_pairwise_product_efficient_and_instructions_by_second.py < input13.txt"
      ],
      "metadata": {
        "colab": {
          "base_uri": "https://localhost:8080/"
        },
        "id": "HDXQHHc46f7B",
        "outputId": "8746cc8c-ac4e-476f-bf88-109e17dcf210"
      },
      "execution_count": null,
      "outputs": [
        {
          "output_type": "stream",
          "name": "stdout",
          "text": [
            "120989000\n",
            "Numero Total de Instrucciones:  88006\n",
            "Tiempo total de ejecución: 0.0060329437255859375 segundos\n",
            "Tiempo estimado de cada instruccion: 6.855150473360836e-08 segundos\n",
            "Instrucciones por segundo: 14587571 \n"
          ]
        }
      ]
    },
    {
      "cell_type": "markdown",
      "source": [
        "#Estimate and verify the maximun n that can be solved in 1 second"
      ],
      "metadata": {
        "id": "DjOdzage0zO3"
      }
    },
    {
      "cell_type": "code",
      "source": [
        "%%writefile maximun_n_that_can_be_solved_efficient.py\n",
        "#Python3\n",
        "import random\n",
        "def max_pairwise_product(lista):\n",
        "    n_major = 0\n",
        "    n_major_2 = 0\n",
        "    max_product = 0\n",
        "    for i in lista:\n",
        "        if i > n_major:\n",
        "            n_major_2=n_major\n",
        "            n_major = i\n",
        "        elif i > n_major_2:\n",
        "            n_major_2=i\n",
        "    max_product = n_major_2 * n_major\n",
        "\n",
        "    return max_product\n",
        "\n",
        "if __name__ == \"__main__\":\n",
        "    n = 800000\n",
        "    lista = [random.randint(17, 25631) for i in range(n)]\n",
        "    print(f\"n=  {n}   Product= {max_pairwise_product(lista)}\")"
      ],
      "metadata": {
        "colab": {
          "base_uri": "https://localhost:8080/"
        },
        "id": "xCyPVVmb0yif",
        "outputId": "055fb6e4-2ce6-41ff-fb9f-0540e5a9dc47"
      },
      "execution_count": null,
      "outputs": [
        {
          "output_type": "stream",
          "name": "stdout",
          "text": [
            "Overwriting maximun_n_that_can_be_solved_efficient.py\n"
          ]
        }
      ]
    },
    {
      "cell_type": "code",
      "source": [
        "%%time\n",
        "!python maximun_n_that_can_be_solved_efficient.py"
      ],
      "metadata": {
        "colab": {
          "base_uri": "https://localhost:8080/"
        },
        "id": "A8zhEvMD1bHp",
        "outputId": "0a162230-9802-4cee-9b44-89e592b0c66d"
      },
      "execution_count": null,
      "outputs": [
        {
          "output_type": "stream",
          "name": "stdout",
          "text": [
            "n=  800000   Product= 656948161\n",
            "CPU times: user 21.3 ms, sys: 1.94 ms, total: 23.3 ms\n",
            "Wall time: 1.02 s\n"
          ]
        }
      ]
    },
    {
      "cell_type": "markdown",
      "metadata": {
        "id": "sUpIWcykOGpT"
      },
      "source": [
        "### Super efficient solution\n",
        "\n",
        "Whitout storing the list in memory, only stpring the largest and second largest and whitout calling a function, add in each line a coment with the number of instructions that are executed in that line\n",
        "\n",
        "in C++ and Python\n",
        " $$2 n = O(n)$$"
      ]
    },
    {
      "cell_type": "code",
      "execution_count": null,
      "metadata": {
        "id": "hBLt_xBQLy8E",
        "colab": {
          "base_uri": "https://localhost:8080/"
        },
        "outputId": "38ef593d-8019-4cc7-94e5-c6292ca0b75a"
      },
      "outputs": [
        {
          "output_type": "stream",
          "name": "stdout",
          "text": [
            "Overwriting max_pairwise_super_efficient.cpp\n"
          ]
        }
      ],
      "source": [
        "%%writefile max_pairwise_super_efficient.cpp\n",
        "#include <iostream>\n",
        "#include <vector>\n",
        "#include <algorithm>\n",
        "using namespace std;\n",
        "\n",
        "int main() {\n",
        "    int n;                                     // 1\n",
        "    cin >> n;                                  // 1\n",
        "    int numero_M = 0;                   // 1\n",
        "    int segundo_Numero_M = 0;             // 1\n",
        "\n",
        "\n",
        "    for (int i = 0; i < n; ++i) {              //1 + 2n\n",
        "        int comp = 0;                           // n\n",
        "        cin >> comp;                            // n\n",
        "\n",
        "        if (comp > numero_M){                  // n\n",
        "          segundo_Numero_M = numero_M;         //n\n",
        "          numero_M = comp;                     //n\n",
        "\n",
        "        } else if (comp > segundo_Numero_M) {    // n\n",
        "          segundo_Numero_M = comp;             //n\n",
        "        }\n",
        "\n",
        "    }\n",
        "\n",
        "    cout  << numero_M * segundo_Numero_M << \"\\n\"; // 1\n",
        "    return 0;\n",
        "}"
      ]
    },
    {
      "cell_type": "code",
      "source": [
        "!g++ max_pairwise_super_efficient.cpp -o max_pairwise_super_efficient"
      ],
      "metadata": {
        "id": "vO4cCNqfHc8V"
      },
      "execution_count": null,
      "outputs": []
    },
    {
      "cell_type": "markdown",
      "metadata": {
        "id": "683gc3roHqzb"
      },
      "source": [
        "Test with inputs 1 and 2\n",
        "\n",
        "\n"
      ]
    },
    {
      "cell_type": "code",
      "execution_count": null,
      "metadata": {
        "id": "b7d4LA8OIc2_",
        "colab": {
          "base_uri": "https://localhost:8080/"
        },
        "outputId": "d083f4b6-e70d-434a-8799-5bb3a9f591d9"
      },
      "outputs": [
        {
          "output_type": "stream",
          "name": "stdout",
          "text": [
            "90\n",
            "90\n"
          ]
        }
      ],
      "source": [
        "!./max_pairwise_super_efficient < input1.txt\n",
        "!./max_pairwise_super_efficient < input2.txt"
      ]
    },
    {
      "cell_type": "markdown",
      "metadata": {
        "id": "36Ugn1odIeJz"
      },
      "source": [
        "Test and time it with input 3"
      ]
    },
    {
      "cell_type": "code",
      "execution_count": null,
      "metadata": {
        "id": "jDyMbCnxHqSN",
        "colab": {
          "base_uri": "https://localhost:8080/"
        },
        "outputId": "61fc2275-46d3-40bd-ffa6-3b041284244e"
      },
      "outputs": [
        {
          "output_type": "stream",
          "name": "stdout",
          "text": [
            "1345294336\n",
            "\n",
            "real\t0m0.003s\n",
            "user\t0m0.001s\n",
            "sys\t0m0.002s\n"
          ]
        }
      ],
      "source": [
        "!time ./max_pairwise_super_efficient < input3.txt"
      ]
    },
    {
      "cell_type": "markdown",
      "metadata": {
        "id": "bhqiKQG6fjKM"
      },
      "source": [
        "100 stress tests"
      ]
    },
    {
      "cell_type": "code",
      "execution_count": null,
      "metadata": {
        "id": "2KsiXKhALzwm",
        "colab": {
          "base_uri": "https://localhost:8080/"
        },
        "outputId": "c4f85b7c-7160-48ee-d767-c9b1ae33d715"
      },
      "outputs": [
        {
          "output_type": "stream",
          "name": "stdout",
          "text": [
            "Writing max_pairwise_super_efficient_stress_tests.cpp\n"
          ]
        }
      ],
      "source": [
        "%%writefile max_pairwise_super_efficient_stress_tests.cpp\n",
        "#include <iostream>\n",
        "#include <vector>\n",
        "#include <algorithm>\n",
        "#include <random>\n",
        "using namespace std;\n",
        "\n",
        "int main() {\n",
        "    std::random_device rd;\n",
        "    std::mt19937 gen(rd());\n",
        "    std::uniform_int_distribution<int> n_dist(2, 99);\n",
        "    std::uniform_int_distribution<int> num_dist(0, 25000);\n",
        "    int n;                                     // 1\n",
        "\n",
        "\n",
        "\n",
        "    for (int i = 0; i < 100; ++i ){\n",
        "\n",
        "          int n = n_dist(gen);\n",
        "          int numero_M = 0;\n",
        "          int segundo_Numero_M = 0;\n",
        "          for (int i = 0; i < n; ++i) {\n",
        "            int comp = 0;                           // n\n",
        "            comp= num_dist(gen);                    //1 + 2n\n",
        "            if (comp > numero_M){                  // n\n",
        "              segundo_Numero_M = numero_M;         //n\n",
        "              numero_M = comp;                     //n\n",
        "\n",
        "            } else if (comp > segundo_Numero_M) {    // n\n",
        "              segundo_Numero_M = comp;             //n\n",
        "            }\n",
        "\n",
        "\n",
        "          }\n",
        "\n",
        "        cout << \"n= \"<< n << \" Multiplicacion= \" << numero_M * segundo_Numero_M  << \"\\n\";\n",
        "    }\n",
        "\n",
        "\n",
        "    return 0;\n",
        "}"
      ]
    },
    {
      "cell_type": "code",
      "source": [
        "!g++ max_pairwise_super_efficient_stress_tests.cpp -o max_pairwise_super_efficient_stress_tests\n",
        "!./max_pairwise_super_efficient_stress_tests"
      ],
      "metadata": {
        "colab": {
          "base_uri": "https://localhost:8080/"
        },
        "id": "c4CiWZ-OXdsf",
        "outputId": "54ba4526-2344-4b14-dd50-f611e2e007c8"
      },
      "execution_count": null,
      "outputs": [
        {
          "output_type": "stream",
          "name": "stdout",
          "text": [
            "n= 92 Multiplicacion= 577317676\n",
            "n= 83 Multiplicacion= 614395360\n",
            "n= 92 Multiplicacion= 620327100\n",
            "n= 52 Multiplicacion= 579295125\n",
            "n= 78 Multiplicacion= 620426062\n",
            "n= 86 Multiplicacion= 608380248\n",
            "n= 79 Multiplicacion= 588376602\n",
            "n= 41 Multiplicacion= 612683453\n",
            "n= 91 Multiplicacion= 587437500\n",
            "n= 44 Multiplicacion= 475273400\n",
            "n= 64 Multiplicacion= 595832724\n",
            "n= 97 Multiplicacion= 597990400\n",
            "n= 65 Multiplicacion= 620655265\n",
            "n= 84 Multiplicacion= 613127850\n",
            "n= 56 Multiplicacion= 610951677\n",
            "n= 47 Multiplicacion= 613992820\n",
            "n= 97 Multiplicacion= 590263424\n",
            "n= 81 Multiplicacion= 614135203\n",
            "n= 73 Multiplicacion= 611369600\n",
            "n= 10 Multiplicacion= 430385332\n",
            "n= 57 Multiplicacion= 609169636\n",
            "n= 4 Multiplicacion= 494962299\n",
            "n= 44 Multiplicacion= 574520247\n",
            "n= 57 Multiplicacion= 607158717\n",
            "n= 37 Multiplicacion= 588025818\n",
            "n= 90 Multiplicacion= 597067585\n",
            "n= 58 Multiplicacion= 600512464\n",
            "n= 42 Multiplicacion= 618813072\n",
            "n= 40 Multiplicacion= 601873990\n",
            "n= 92 Multiplicacion= 588207993\n",
            "n= 21 Multiplicacion= 471733436\n",
            "n= 3 Multiplicacion= 17425682\n",
            "n= 94 Multiplicacion= 605475420\n",
            "n= 31 Multiplicacion= 592617521\n",
            "n= 35 Multiplicacion= 584037468\n",
            "n= 45 Multiplicacion= 541754031\n",
            "n= 75 Multiplicacion= 586094634\n",
            "n= 63 Multiplicacion= 596437360\n",
            "n= 34 Multiplicacion= 601991125\n",
            "n= 67 Multiplicacion= 593840061\n",
            "n= 64 Multiplicacion= 541594250\n",
            "n= 19 Multiplicacion= 538511604\n",
            "n= 39 Multiplicacion= 611423953\n",
            "n= 4 Multiplicacion= 427326022\n",
            "n= 94 Multiplicacion= 618218240\n",
            "n= 18 Multiplicacion= 566524026\n",
            "n= 58 Multiplicacion= 592966178\n",
            "n= 47 Multiplicacion= 588346286\n",
            "n= 50 Multiplicacion= 615076572\n",
            "n= 25 Multiplicacion= 571422782\n",
            "n= 79 Multiplicacion= 537476075\n",
            "n= 94 Multiplicacion= 608200083\n",
            "n= 13 Multiplicacion= 534790165\n",
            "n= 19 Multiplicacion= 583405524\n",
            "n= 29 Multiplicacion= 602527470\n",
            "n= 16 Multiplicacion= 593997542\n",
            "n= 17 Multiplicacion= 534709133\n",
            "n= 22 Multiplicacion= 537709144\n",
            "n= 98 Multiplicacion= 600475425\n",
            "n= 81 Multiplicacion= 594990396\n",
            "n= 97 Multiplicacion= 600173824\n",
            "n= 48 Multiplicacion= 603585840\n",
            "n= 34 Multiplicacion= 582640658\n",
            "n= 99 Multiplicacion= 598985146\n",
            "n= 28 Multiplicacion= 601891362\n",
            "n= 45 Multiplicacion= 610275521\n",
            "n= 67 Multiplicacion= 620084700\n",
            "n= 84 Multiplicacion= 617100939\n",
            "n= 54 Multiplicacion= 599749056\n",
            "n= 27 Multiplicacion= 547512945\n",
            "n= 75 Multiplicacion= 608218600\n",
            "n= 36 Multiplicacion= 594380920\n",
            "n= 41 Multiplicacion= 581507460\n",
            "n= 86 Multiplicacion= 617368368\n",
            "n= 39 Multiplicacion= 616925642\n",
            "n= 9 Multiplicacion= 543648672\n",
            "n= 5 Multiplicacion= 453449304\n",
            "n= 99 Multiplicacion= 605474520\n",
            "n= 81 Multiplicacion= 615975000\n",
            "n= 78 Multiplicacion= 618616159\n",
            "n= 70 Multiplicacion= 601215271\n",
            "n= 97 Multiplicacion= 605838454\n",
            "n= 33 Multiplicacion= 588604280\n",
            "n= 4 Multiplicacion= 331034434\n",
            "n= 44 Multiplicacion= 605656800\n",
            "n= 41 Multiplicacion= 604997525\n",
            "n= 99 Multiplicacion= 617348010\n",
            "n= 73 Multiplicacion= 616354290\n",
            "n= 57 Multiplicacion= 576382543\n",
            "n= 7 Multiplicacion= 300857736\n",
            "n= 76 Multiplicacion= 600365107\n",
            "n= 2 Multiplicacion= 236053164\n",
            "n= 38 Multiplicacion= 594957675\n",
            "n= 53 Multiplicacion= 566604162\n",
            "n= 55 Multiplicacion= 599943936\n",
            "n= 77 Multiplicacion= 621527280\n",
            "n= 12 Multiplicacion= 505368136\n",
            "n= 21 Multiplicacion= 554695548\n",
            "n= 52 Multiplicacion= 607945675\n",
            "n= 22 Multiplicacion= 609618135\n"
          ]
        }
      ]
    },
    {
      "cell_type": "markdown",
      "metadata": {
        "id": "fEXj8GHJH5p1"
      },
      "source": [
        "Count executed instructions in code and verify with inputs 1,2 and 3"
      ]
    },
    {
      "cell_type": "code",
      "execution_count": null,
      "metadata": {
        "id": "LF1DHjKXIAsF",
        "colab": {
          "base_uri": "https://localhost:8080/"
        },
        "outputId": "9fab6532-626f-4d39-ed19-c38a7fd83699"
      },
      "outputs": [
        {
          "output_type": "stream",
          "name": "stdout",
          "text": [
            "Overwriting max_pairwise_super_efficient_count.cpp\n"
          ]
        }
      ],
      "source": [
        "%%writefile max_pairwise_super_efficient_count.cpp\n",
        "#include <iostream>\n",
        "#include <vector>\n",
        "#include <algorithm>\n",
        "using namespace std;\n",
        "\n",
        "int main() {\n",
        "    int inst = 0;\n",
        "    int n;                                     // 1\n",
        "    inst++;\n",
        "    cin >> n;                                  // 1\n",
        "    inst++;\n",
        "    int numero_M = 0;                   // 1\n",
        "    inst++;\n",
        "    int segundo_Numero_M = 0;             // 1\n",
        "    inst++;\n",
        "\n",
        "    inst++;\n",
        "    inst+=2*n;\n",
        "    for (int i = 0; i < n; ++i) {              //1 + 2n\n",
        "        int comp = 0;                           // n\n",
        "        inst++;\n",
        "        cin >> comp;                            // n\n",
        "        inst++;\n",
        "        inst++;\n",
        "        if (comp > numero_M){                  // n\n",
        "          segundo_Numero_M = numero_M;         //0 o n\n",
        "          inst++;\n",
        "          numero_M = comp;                     //0 o n\n",
        "          inst++;\n",
        "\n",
        "        } else if (comp > segundo_Numero_M) {    // 0 o n\n",
        "          inst++;\n",
        "          segundo_Numero_M = comp;             // 0 o n\n",
        "          inst++;\n",
        "        }\n",
        "\n",
        "    }\n",
        "\n",
        "    cout  << numero_M * segundo_Numero_M << \"\\n\"; // 1\n",
        "    inst++;\n",
        "    cout << \"Numero de Instrucciones: \" << inst << \"\\n\";\n",
        "    return 0;\n",
        "}"
      ]
    },
    {
      "cell_type": "code",
      "source": [
        "!g++ max_pairwise_super_efficient_count.cpp -o max_pairwise_super_efficient_count"
      ],
      "metadata": {
        "id": "vAqXrEZDQuKB"
      },
      "execution_count": null,
      "outputs": []
    },
    {
      "cell_type": "code",
      "source": [
        "!./max_pairwise_super_efficient_count < input1.txt\n",
        "!./max_pairwise_super_efficient_count < input2.txt\n",
        "!./max_pairwise_super_efficient_count < input3.txt"
      ],
      "metadata": {
        "colab": {
          "base_uri": "https://localhost:8080/"
        },
        "id": "lNiCN-esREV0",
        "outputId": "007d5e68-e322-4c9a-8867-f856bdb79060"
      },
      "execution_count": null,
      "outputs": [
        {
          "output_type": "stream",
          "name": "stdout",
          "text": [
            "90\n",
            "Numero de Instrucciones: 76\n",
            "90\n",
            "Numero de Instrucciones: 60\n",
            "1345294336\n",
            "Numero de Instrucciones: 46\n"
          ]
        }
      ]
    },
    {
      "cell_type": "markdown",
      "metadata": {
        "id": "yae7sSm2IG9U"
      },
      "source": [
        "Calculate estimated time by instruction and number of instructions by second"
      ]
    },
    {
      "cell_type": "code",
      "execution_count": null,
      "metadata": {
        "id": "suouY7BYL2dz",
        "colab": {
          "base_uri": "https://localhost:8080/"
        },
        "outputId": "d9014526-67b2-4b23-d36b-90a3b839299c"
      },
      "outputs": [
        {
          "output_type": "stream",
          "name": "stdout",
          "text": [
            "Tiempo por instruccion: 6.521739130434783e-05\n",
            "Instrucciones por segundo: 15333.333333333332\n"
          ]
        }
      ],
      "source": [
        "t_por_instruccion = 0.003 / 46\n",
        "instrucciones_por_segundo = 1 / t_por_instruccion\n",
        "print(f\"Tiempo por instruccion: {t_por_instruccion}\")\n",
        "print(f\"Instrucciones por segundo: {instrucciones_por_segundo}\")"
      ]
    },
    {
      "cell_type": "markdown",
      "metadata": {
        "id": "sy33CNNfPxcE"
      },
      "source": [
        "### Super efficient solution in Python\n",
        "\n",
        "Whitout storing the list in memory and whitout calling a function, add in each line a coment with the number of intstrcution that are executed in that line"
      ]
    },
    {
      "cell_type": "code",
      "execution_count": null,
      "metadata": {
        "id": "_mOjJwKrPxcJ",
        "colab": {
          "base_uri": "https://localhost:8080/"
        },
        "outputId": "a88f9ed6-6f6c-4d4b-c8b0-af5ddd3d4616"
      },
      "outputs": [
        {
          "output_type": "stream",
          "name": "stdout",
          "text": [
            "Overwriting max_pairwise_super_efficient.py\n"
          ]
        }
      ],
      "source": [
        "%%writefile max_pairwise_super_efficient.py\n",
        "n = int(input())                            # 1\n",
        "numero_M = 0                                # 1\n",
        "segundo_Numero_M = 0                        # 1\n",
        "\n",
        "for comp in input().split():                 # 3 + 2n\n",
        "\n",
        "    comp = int(comp)                          # n\n",
        "\n",
        "    if comp > numero_M:                    # n\n",
        "        segundo_Numero_M = numero_M      # 0 o n\n",
        "        numero_M = comp                  # 0 o n\n",
        "    elif comp > segundo_Numero_M:           # n\n",
        "        segundo_Numero_M = comp             # 0 o n\n",
        "print(f\"{numero_M * segundo_Numero_M}\")"
      ]
    },
    {
      "cell_type": "markdown",
      "metadata": {
        "id": "K08Eow0hPxcJ"
      },
      "source": [
        "Test with inputs 1 and 2\n",
        "\n",
        "\n"
      ]
    },
    {
      "cell_type": "code",
      "execution_count": null,
      "metadata": {
        "id": "1_mUee2cPxcJ",
        "colab": {
          "base_uri": "https://localhost:8080/"
        },
        "outputId": "5b1b917f-6d9b-4b13-e7c1-4b11fb7fb419"
      },
      "outputs": [
        {
          "output_type": "stream",
          "name": "stdout",
          "text": [
            "90\n",
            "90\n"
          ]
        }
      ],
      "source": [
        "!python max_pairwise_super_efficient.py < input1.txt\n",
        "!python max_pairwise_super_efficient.py < input2.txt"
      ]
    },
    {
      "cell_type": "markdown",
      "metadata": {
        "id": "CE5DB3CmPxcJ"
      },
      "source": [
        "Test and time it with input 3"
      ]
    },
    {
      "cell_type": "code",
      "execution_count": null,
      "metadata": {
        "id": "lyLhFOoePxcJ",
        "colab": {
          "base_uri": "https://localhost:8080/"
        },
        "outputId": "3cc56005-dbc4-41b9-8398-55f0c6cf4e0a"
      },
      "outputs": [
        {
          "output_type": "stream",
          "name": "stdout",
          "text": [
            "40000000000\n",
            "CPU times: user 5.27 ms, sys: 765 µs, total: 6.03 ms\n",
            "Wall time: 107 ms\n"
          ]
        }
      ],
      "source": [
        "%%time\n",
        "!python max_pairwise_super_efficient.py < input3.txt"
      ]
    },
    {
      "cell_type": "markdown",
      "metadata": {
        "id": "HZEI236lPxcK"
      },
      "source": [
        "100 stress tests"
      ]
    },
    {
      "cell_type": "code",
      "execution_count": null,
      "metadata": {
        "id": "_LoV-p4zPxcK",
        "colab": {
          "base_uri": "https://localhost:8080/"
        },
        "outputId": "264a902c-58b1-4d70-ab9b-ddd5073a75b0"
      },
      "outputs": [
        {
          "output_type": "stream",
          "name": "stdout",
          "text": [
            "Writing max_pairwise_super_efficient_stress_tests.py\n"
          ]
        }
      ],
      "source": [
        "%%writefile max_pairwise_super_efficient_stress_tests.py\n",
        "import random\n",
        "\n",
        "for i in range(100):\n",
        "  n = random.randint(2, 99)\n",
        "  numero_M = 0                                # 1\n",
        "  segundo_Numero_M = 0\n",
        "  for j in range(n):\n",
        "    comp=random.randint(17, 25631)\n",
        "    if comp > numero_M:                    # n\n",
        "      segundo_Numero_M = numero_M      # 0 o n\n",
        "      numero_M = comp                  # 0 o n\n",
        "    elif comp > segundo_Numero_M:           # n\n",
        "      segundo_Numero_M = comp             # 0 o n\n",
        "  print(f\"{i+1}. n= {n} Producto= {numero_M * segundo_Numero_M}\")"
      ]
    },
    {
      "cell_type": "code",
      "source": [
        "!python max_pairwise_super_efficient_stress_tests.py"
      ],
      "metadata": {
        "colab": {
          "base_uri": "https://localhost:8080/"
        },
        "id": "b2EX8KPfYwy1",
        "outputId": "c4cabc37-d4e1-41e0-c6ed-58c2f196d362"
      },
      "execution_count": null,
      "outputs": [
        {
          "output_type": "stream",
          "name": "stdout",
          "text": [
            "1. n= 37 Producto= 529548292\n",
            "2. n= 85 Producto= 632719458\n",
            "3. n= 27 Producto= 569618924\n",
            "4. n= 13 Producto= 634853712\n",
            "5. n= 94 Producto= 627546087\n",
            "6. n= 86 Producto= 598780675\n",
            "7. n= 43 Producto= 623523420\n",
            "8. n= 74 Producto= 646895968\n",
            "9. n= 48 Producto= 589714888\n",
            "10. n= 29 Producto= 586984103\n",
            "11. n= 81 Producto= 629744700\n",
            "12. n= 37 Producto= 545350858\n",
            "13. n= 97 Producto= 632968000\n",
            "14. n= 43 Producto= 654847659\n",
            "15. n= 26 Producto= 621003621\n",
            "16. n= 92 Producto= 632009466\n",
            "17. n= 35 Producto= 635019812\n",
            "18. n= 62 Producto= 615121364\n",
            "19. n= 22 Producto= 573913862\n",
            "20. n= 37 Producto= 402645591\n",
            "21. n= 50 Producto= 607258852\n",
            "22. n= 58 Producto= 644934316\n",
            "23. n= 87 Producto= 654182088\n",
            "24. n= 13 Producto= 430023132\n",
            "25. n= 64 Producto= 649714520\n",
            "26. n= 52 Producto= 641808420\n",
            "27. n= 19 Producto= 574982382\n",
            "28. n= 20 Producto= 559346236\n",
            "29. n= 47 Producto= 620094706\n",
            "30. n= 30 Producto= 630463734\n",
            "31. n= 3 Producto= 407883720\n",
            "32. n= 72 Producto= 638875887\n",
            "33. n= 72 Producto= 624392472\n",
            "34. n= 4 Producto= 603829835\n",
            "35. n= 60 Producto= 608829390\n",
            "36. n= 3 Producto= 382124670\n",
            "37. n= 81 Producto= 651168155\n",
            "38. n= 49 Producto= 609571138\n",
            "39. n= 86 Producto= 606582312\n",
            "40. n= 24 Producto= 606254976\n",
            "41. n= 59 Producto= 615105696\n",
            "42. n= 78 Producto= 647952669\n",
            "43. n= 25 Producto= 558741909\n",
            "44. n= 76 Producto= 609713236\n",
            "45. n= 67 Producto= 642571632\n",
            "46. n= 46 Producto= 605061992\n",
            "47. n= 18 Producto= 641630808\n",
            "48. n= 68 Producto= 631262358\n",
            "49. n= 86 Producto= 638906424\n",
            "50. n= 47 Producto= 622915380\n",
            "51. n= 45 Producto= 630812831\n",
            "52. n= 47 Producto= 613871982\n",
            "53. n= 46 Producto= 647032869\n",
            "54. n= 40 Producto= 634702410\n",
            "55. n= 59 Producto= 651752290\n",
            "56. n= 66 Producto= 613930751\n",
            "57. n= 78 Producto= 646757160\n",
            "58. n= 73 Producto= 628125484\n",
            "59. n= 2 Producto= 158780454\n",
            "60. n= 2 Producto= 397735812\n",
            "61. n= 27 Producto= 620465160\n",
            "62. n= 39 Producto= 634607315\n",
            "63. n= 16 Producto= 528730000\n",
            "64. n= 71 Producto= 649187098\n",
            "65. n= 48 Producto= 639887327\n",
            "66. n= 73 Producto= 646019265\n",
            "67. n= 34 Producto= 651242430\n",
            "68. n= 69 Producto= 655027242\n",
            "69. n= 71 Producto= 650300101\n",
            "70. n= 2 Producto= 217959621\n",
            "71. n= 84 Producto= 635154876\n",
            "72. n= 49 Producto= 640656540\n",
            "73. n= 45 Producto= 631362857\n",
            "74. n= 21 Producto= 635372682\n",
            "75. n= 12 Producto= 561179960\n",
            "76. n= 12 Producto= 308270964\n",
            "77. n= 75 Producto= 603609732\n",
            "78. n= 45 Producto= 636756400\n",
            "79. n= 29 Producto= 552120601\n",
            "80. n= 43 Producto= 601172897\n",
            "81. n= 65 Producto= 639609318\n",
            "82. n= 60 Producto= 620628344\n",
            "83. n= 28 Producto= 577439556\n",
            "84. n= 24 Producto= 581211504\n",
            "85. n= 44 Producto= 626050320\n",
            "86. n= 47 Producto= 557026515\n",
            "87. n= 52 Producto= 624593900\n",
            "88. n= 23 Producto= 569747808\n",
            "89. n= 55 Producto= 642235826\n",
            "90. n= 52 Producto= 641757289\n",
            "91. n= 14 Producto= 372036480\n",
            "92. n= 94 Producto= 631208487\n",
            "93. n= 11 Producto= 449503995\n",
            "94. n= 38 Producto= 577593016\n",
            "95. n= 3 Producto= 598823848\n",
            "96. n= 13 Producto= 646988800\n",
            "97. n= 42 Producto= 626626014\n",
            "98. n= 74 Producto= 624367383\n",
            "99. n= 54 Producto= 605599552\n",
            "100. n= 96 Producto= 604294194\n"
          ]
        }
      ]
    },
    {
      "cell_type": "markdown",
      "metadata": {
        "id": "IRVdP3iuPxcK"
      },
      "source": [
        "Count executed instructions in code and verify with inputs 1,2 and 3"
      ]
    },
    {
      "cell_type": "code",
      "execution_count": null,
      "metadata": {
        "id": "RghJOg78PxcK",
        "colab": {
          "base_uri": "https://localhost:8080/"
        },
        "outputId": "eb7862df-2e9b-4a52-967e-7a2e070b5e04"
      },
      "outputs": [
        {
          "output_type": "stream",
          "name": "stdout",
          "text": [
            "Overwriting max_pairwise_super_efficient_count.py\n"
          ]
        }
      ],
      "source": [
        "%%writefile max_pairwise_super_efficient_count.py\n",
        "instrucciones=0\n",
        "n = int(input())                            # 1\n",
        "instrucciones+=1\n",
        "numero_M = 0                                # 1\n",
        "instrucciones+=1\n",
        "segundo_Numero_M = 0                        # 1\n",
        "instrucciones+=1\n",
        "instrucciones+=1\n",
        "instrucciones+=2*n\n",
        "for comp in input().split():                 # 1 + 2n\n",
        "\n",
        "    comp = int(comp)                          # n\n",
        "    instrucciones+=1\n",
        "\n",
        "    instrucciones+=1\n",
        "    if comp > numero_M:                    # n\n",
        "        segundo_Numero_M = numero_M      # 0 o n\n",
        "        instrucciones+=1\n",
        "        numero_M = comp                  # 0 o n\n",
        "        instrucciones+=1\n",
        "    elif comp > segundo_Numero_M:           # 0 o n\n",
        "        instrucciones+=1\n",
        "        segundo_Numero_M = comp             # 0 o n\n",
        "        instrucciones+=1\n",
        "\n",
        "print(f\"{numero_M * segundo_Numero_M}\")\n",
        "print(f\"Instrucciones totales: {instrucciones} \")"
      ]
    },
    {
      "cell_type": "code",
      "source": [
        "!python max_pairwise_super_efficient_count.py < input1.txt\n",
        "!python max_pairwise_super_efficient_count.py < input2.txt\n",
        "!python max_pairwise_super_efficient_count.py < input3.txt"
      ],
      "metadata": {
        "colab": {
          "base_uri": "https://localhost:8080/"
        },
        "id": "n2tF8PYGNgqP",
        "outputId": "fa90b232-c422-471a-8770-06fbd0b0df88"
      },
      "execution_count": null,
      "outputs": [
        {
          "output_type": "stream",
          "name": "stdout",
          "text": [
            "90\n",
            "Instrucciones totales: 64 \n",
            "90\n",
            "Instrucciones totales: 48 \n",
            "40000000000\n",
            "Instrucciones totales: 38 \n"
          ]
        }
      ]
    },
    {
      "cell_type": "markdown",
      "metadata": {
        "id": "R6qeUjPaPxcK"
      },
      "source": [
        "Calculate estimated time by instruction and number of instructions by second"
      ]
    },
    {
      "cell_type": "code",
      "execution_count": null,
      "metadata": {
        "id": "iLdXYvn3PxcK",
        "colab": {
          "base_uri": "https://localhost:8080/"
        },
        "outputId": "7c3ba8eb-0e01-4645-da24-db7245efce51"
      },
      "outputs": [
        {
          "output_type": "stream",
          "name": "stdout",
          "text": [
            "Tiempo por instruccion: 0.00010657894736842105\n",
            "Instrucciones por segundo: 9382.716049382716\n"
          ]
        }
      ],
      "source": [
        "t_por_instruccion = 0.00405 / 38\n",
        "instrucciones_por_segundo = 1 / t_por_instruccion\n",
        "print(f\"Tiempo por instruccion: {t_por_instruccion}\")\n",
        "print(f\"Instrucciones por segundo: {instrucciones_por_segundo}\")"
      ]
    },
    {
      "cell_type": "markdown",
      "source": [
        "#Estimate and verify the maximun n that can be solved in 1 second"
      ],
      "metadata": {
        "id": "KkVAVfKF111S"
      }
    },
    {
      "cell_type": "code",
      "source": [
        "%%writefile maximun_n_that_can_be_solved_super_efficient.py\n",
        "import random\n",
        "\n",
        "n = 900000\n",
        "numero_M = 0                                # 1\n",
        "segundo_Numero_M = 0\n",
        "for j in range(n):\n",
        "  comp=random.randint(17, 25631)\n",
        "  if comp > numero_M:                    # n\n",
        "    segundo_Numero_M = numero_M      # 0 o n\n",
        "    numero_M = comp                  # 0 o n\n",
        "  elif comp > segundo_Numero_M:           # n\n",
        "    segundo_Numero_M = comp             # 0 o n\n",
        "print(f\"Producto= {numero_M * segundo_Numero_M}\")"
      ],
      "metadata": {
        "id": "rTACraPIPt__",
        "colab": {
          "base_uri": "https://localhost:8080/"
        },
        "outputId": "02f140da-abc2-4a46-a938-1ce5aa2272ac"
      },
      "execution_count": null,
      "outputs": [
        {
          "output_type": "stream",
          "name": "stdout",
          "text": [
            "Overwriting maximun_n_that_can_be_solved_super_efficient.py\n"
          ]
        }
      ]
    },
    {
      "cell_type": "code",
      "source": [
        "%%time\n",
        "!python maximun_n_that_can_be_solved_super_efficient.py"
      ],
      "metadata": {
        "colab": {
          "base_uri": "https://localhost:8080/"
        },
        "id": "YObt413j2NMk",
        "outputId": "027016c8-ad59-4b27-e739-aaf7ed7530df"
      },
      "execution_count": null,
      "outputs": [
        {
          "output_type": "stream",
          "name": "stdout",
          "text": [
            "Producto= 656948161\n",
            "CPU times: user 18 ms, sys: 927 µs, total: 19 ms\n",
            "Wall time: 1.01 s\n"
          ]
        }
      ]
    },
    {
      "cell_type": "code",
      "source": [],
      "metadata": {
        "id": "EwRmUDjT2QTg"
      },
      "execution_count": null,
      "outputs": []
    }
  ],
  "metadata": {
    "colab": {
      "provenance": []
    },
    "kernelspec": {
      "display_name": "Python 3",
      "name": "python3"
    },
    "language_info": {
      "name": "python"
    }
  },
  "nbformat": 4,
  "nbformat_minor": 0
}